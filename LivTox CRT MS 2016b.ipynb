{
 "cells": [
  {
   "cell_type": "markdown",
   "metadata": {
    "nbpresent": {
     "id": "30520442-a328-4a6e-bcb2-bbfbb63400a7"
    }
   },
   "source": [
    "# Predicting Hepatotoxicity Using ToxCast in Vitro Bioactivity and Chemical Structure"
   ]
  },
  {
   "cell_type": "markdown",
   "metadata": {
    "nbpresent": {
     "id": "0d80eada-ddc9-4fc8-8ec9-06d3c7097747"
    }
   },
   "source": [
    "http://pubs.acs.org/doi/abs/10.1021/tx500501h"
   ]
  },
  {
   "cell_type": "markdown",
   "metadata": {
    "nbpresent": {
     "id": "c31d0838-d486-4a38-a597-b0bb20db233d"
    }
   },
   "source": [
    "DOI: 10.1021/tx500501h"
   ]
  },
  {
   "cell_type": "code",
   "execution_count": null,
   "metadata": {
    "collapsed": true,
    "nbpresent": {
     "id": "e7d73ac5-7553-4ccf-ade0-3475ed74b09b"
    }
   },
   "outputs": [],
   "source": []
  },
  {
   "cell_type": "code",
   "execution_count": 10,
   "metadata": {
    "collapsed": false,
    "nbpresent": {
     "id": "c2c9f09c-bc5c-48cc-8c80-6c23850ae762"
    }
   },
   "outputs": [],
   "source": [
    "import numpy as np\n",
    "import pylab as pl\n",
    "\n",
    "from matplotlib.colors import ListedColormap\n",
    "#from matplotlib_venn import venn2,venn3\n",
    "from sklearn.cross_validation import train_test_split\n",
    "#from sklearn.preprocessing import StandardScaler\n",
    "from sklearn.datasets import make_moons, make_circles, make_classification\n",
    "from sklearn.neighbors import KNeighborsClassifier\n",
    "from sklearn.svm import SVC\n",
    "from sklearn.tree import DecisionTreeClassifier\n",
    "from sklearn.ensemble import RandomForestClassifier\n",
    "from sklearn.naive_bayes import GaussianNB\n",
    "from sklearn.lda import LDA\n",
    "from sklearn.qda import QDA\n",
    "from matplotlib.colors import ListedColormap\n",
    "from sklearn import neighbors, datasets\n",
    "import pandas as pd\n",
    "from sklearn.cross_validation import StratifiedKFold\n",
    "from sklearn.feature_selection import RFECV\n",
    "from sklearn.datasets import make_classification\n",
    "from sklearn import cross_validation\n",
    "from sklearn.feature_selection import RFE\n",
    "from itertools import *\n",
    "from matplotlib import offsetbox\n",
    "from sklearn import (manifold, datasets, decomposition, ensemble, lda)\n",
    "from time import time\n",
    "from sklearn.metrics import precision_score,recall_score,accuracy_score\n",
    "from sklearn.feature_selection import SelectPercentile, f_classif\n",
    "from sklearn.cross_validation import StratifiedKFold, permutation_test_score,KFold\n",
    "from sklearn.cluster import KMeans\n",
    "\n",
    "import warnings\n",
    "warnings.simplefilter('ignore')\n",
    "import os\n",
    "import subprocess\n",
    "import warnings\n",
    "\n",
    "import pandas as pd\n",
    "import re"
   ]
  },
  {
   "cell_type": "code",
   "execution_count": 13,
   "metadata": {
    "collapsed": false,
    "nbpresent": {
     "id": "fce968bc-826c-4552-ae1a-18aaf078d1a5"
    }
   },
   "outputs": [
    {
     "data": {
      "text/plain": [
       "{'Available Physical Memory': '2,440 MB',\n",
       " 'BIOS Version': 'Dell Inc. A10, 6/26/2014',\n",
       " 'Domain': 'aa.ad.epa.gov',\n",
       " 'Host Name': 'LZ26266ISHAH',\n",
       " 'Logon Server': '\\\\\\\\V1818TNCYT402',\n",
       " 'OS Name': 'Microsoft Windows 7 Enterprise',\n",
       " 'OS Version': '6.1.7601 Service Pack 1 Build 7601',\n",
       " 'Product ID': '00392-918-5000002-85066',\n",
       " 'System Manufacturer': 'Dell Inc.',\n",
       " 'System Model': 'Latitude E7240',\n",
       " 'System type': 'x64-based PC',\n",
       " 'Total Physical Memory': '8,098 MB',\n",
       " 'Windows Directory': 'C:\\\\windows'}"
      ]
     },
     "execution_count": 13,
     "metadata": {},
     "output_type": "execute_result"
    }
   ],
   "source": [
    "# This function provides a dump of SysInfo if you're running it under ms windows\n",
    "# http://stackoverflow.com/questions/467602/how-can-i-read-system-information-in-python-on-windows\n",
    "def SysInfo():\n",
    "    values  = {}\n",
    "    cache   = os.popen2(\"SYSTEMINFO\")\n",
    "    source  = cache[1].read()\n",
    "    sysOpts = [\"Host Name\", \"OS Name\", \"OS Version\", \"Product ID\", \"System Manufacturer\", \"System Model\", \"System type\", \"BIOS Version\", \"Domain\", \"Windows Directory\", \"Total Physical Memory\", \"Available Physical Memory\", \"Logon Server\"]\n",
    "\n",
    "    for opt in sysOpts:\n",
    "        values[opt] = [item.strip() for item in re.findall(\"%s:\\w*(.*?)\\n\" % (opt), source, re.IGNORECASE)][0]\n",
    "    return values\n",
    "\n",
    "# Just to confirm this code is running on a stock EPA laptop \n",
    "SysInfo()"
   ]
  },
  {
   "cell_type": "code",
   "execution_count": 14,
   "metadata": {
    "collapsed": false,
    "nbpresent": {
     "id": "e0832f6d-7e94-4e2d-8519-e223c3505326"
    }
   },
   "outputs": [],
   "source": [
    "# Here's the main code -- a little verbose \n",
    "\n",
    "# Store all classifiers in a dictionary\n",
    "Classifiers1 = dict(LDA = LDA(),\n",
    "                    NB= GaussianNB(), \n",
    "                    KNN1=KNeighborsClassifier(algorithm='auto',n_neighbors=3), \n",
    "                    SVCL0=SVC(kernel='linear'), \n",
    "                    SVCR0=SVC(C=1.0, cache_size=400, class_weight=None, coef0=0.0, degree=3,\n",
    "                              gamma=10.0, kernel='rbf', max_iter=-1, probability=False, shrinking=True,\n",
    "                              tol=0.0001, verbose=False),\n",
    "                    CART0=DecisionTreeClassifier(max_depth=10))\n",
    "\n",
    "DataSet = {}\n",
    "Markers = {}\n",
    "\n",
    "\n",
    "def selFeatsFilter(A,b,top=5):\n",
    "    selector = SelectPercentile(f_classif, percentile=10)\n",
    "    selector.fit(A, b)\n",
    "    scores = -np.log10(selector.pvalues_)\n",
    "    scores[np.isnan(scores)]=0\n",
    "    np.argsort(scores)\n",
    "    if top>len(scores): top=len(scores)\n",
    "    return np.argsort(scores)[-top:]\n",
    "\n",
    "def myScore(Y_test,Y_pred):\n",
    "    X = dict(TP=np.sum(np.logical_and(Y_pred==1, Y_test==1)),\n",
    "             TN=np.sum(np.logical_and(Y_pred==0, Y_test==0)),\n",
    "             FP=np.sum(np.logical_and(Y_pred==1, Y_test==0)),\n",
    "             FN=np.sum(np.logical_and(Y_pred==0, Y_test==1)))\n",
    "    for i,v in X.iteritems(): v *= 1.0\n",
    "    TP,TN,FP,FN = X['TP'],X['TN'],X['FP'],X['FN']\n",
    "    return dict(cm=X,acc=1.0*(TP+TN)/(TP+TN+FP+FN),sens=1.0*TP/(TP+FN),spec=1.0*TN/(TN+FP))\n",
    "\n",
    "def countPosNeg(X):\n",
    "    n0=np.sum(X==0)\n",
    "    n1=np.sum(X==1)\n",
    "    if n1>n0: \n",
    "        return 1\n",
    "    else:\n",
    "        return 0\n",
    "\n",
    "def trainAndTestClassifiers(X,Y,I_test,I_train,n_desc,dbg=False,\n",
    "                            TOPD=Markers,CLSF=Classifiers1):\n",
    "    X_test = X.ix[I_test,:]\n",
    "    X_train = X.ix[I_train,:]\n",
    "    Y_test = Y.ix[I_test]\n",
    "    Y_train = Y.ix[I_train]\n",
    "    F_best = selFeatsFilter(X_train,Y_train,n_desc)\n",
    "    Perf_i   =[]\n",
    "    Vote   =pd.DataFrame(np.zeros((len(I_test),len(CLSF))),columns=CLSF.keys())\n",
    "    \n",
    "    if dbg: print \"Train\",X_train.shape,\" Test\",X_test.shape,\" n_desc\",len(F_best)\n",
    "    for nm,clf in CLSF.iteritems():\n",
    "        if dbg: print nm\n",
    "        try:\n",
    "            if dbg: print \" Training\"\n",
    "            clf.fit(X_train.ix[:,F_best], Y_train)\n",
    "            if dbg: print \" Testing\"\n",
    "            Y_pred = clf.predict(X_test.ix[:,F_best])\n",
    "            Vote[nm]=Y_pred\n",
    "            if dbg: print \" Calc score\"\n",
    "            P_i = myScore(Y_test,Y_pred)\n",
    "            if dbg: print \" Make results\"\n",
    "            P = dict(cl=nm,sens=P_i['sens'],spec=P_i['spec'],\n",
    "                     bacc=0.5*(P_i['sens']+P_i['spec']),\n",
    "                     prec=precision_score(Y_test,Y_pred),\n",
    "                     n_pos=np.sum(Y_train==1),n_neg=np.sum(Y_train==0),\n",
    "                     n_desc=n_desc,\n",
    "                     acc=accuracy_score(Y_test,Y_pred))\n",
    "                \n",
    "            Perf_i.append(P)\n",
    "                             \n",
    "        except:\n",
    "            print \"   %s Failed!\" % nm\n",
    "        \n",
    "    # Now get the majority vote for the class\n",
    "    Y_pred=Vote.apply(countPosNeg,axis=1)\n",
    "    P_i = myScore(Y_test,Y_pred)\n",
    "    P = dict(cl='ENSMB',sens=P_i['sens'],spec=P_i['spec'],\n",
    "             bacc=0.5*(P_i['sens']+P_i['spec']),\n",
    "             prec=precision_score(Y_test,Y_pred),\n",
    "             n_pos=np.sum(Y_train==1),n_neg=np.sum(Y_train==0),\n",
    "             n_desc=n_desc,\n",
    "             acc=accuracy_score(Y_test,Y_pred))\n",
    "    Perf_i.append(P)\n",
    "\n",
    "    return pd.DataFrame(Perf_i)\n",
    "\n",
    "\n",
    "def resampleBalCVLearn(n_pos,n_neg,trial=1,\n",
    "                       n_desc_min=5,n_desc_max=70,n_desc_step=5,\n",
    "                       K=10,DS=DataSet,TOPD=Markers,\n",
    "                       CLSF=Classifiers1,dbg=False):\n",
    "    \"\"\"\n",
    "    Creates a balanced undersampled subset of the data for K-fold CV testing n_reps times \n",
    "    Requires: DS (which is pushed by dview)\n",
    "\n",
    "    \"\"\"\n",
    "    Data = DS['Data']\n",
    "    Y_pos = Data[DS['pos_cls']]\n",
    "    X_pos = Data[DS['Desc']].ix[Y_pos==1,:]\n",
    "    N_pos = np.sum(Y_pos[Y_pos==1])\n",
    "    \n",
    "    Y_neg = Data[DS['neg_cls']]\n",
    "    X_neg = Data[DS['Desc']].ix[Y_neg==1,:]\n",
    "    N_neg = np.sum(Y_neg[Y_neg==1])\n",
    "\n",
    "    I_pos = np.random.randint(0,N_pos,n_pos)\n",
    "    X_pi = X_pos.ix[I_pos,:]\n",
    "    X_pi['out']=1\n",
    "\n",
    "    I_neg = np.random.randint(0,N_neg,n_neg)\n",
    "    X_ni = X_neg.ix[I_neg,:]\n",
    "    X_ni['out']=0\n",
    "\n",
    "    X = pd.concat((X_pi,X_ni))\n",
    "    Y = X['out']\n",
    "    X = X.drop('out',axis=1)\n",
    "    \n",
    "    Perf_cv = []\n",
    "    \n",
    "    #pid=os.getpid()\n",
    "\n",
    "    SKF = StratifiedKFold(Y,n_folds=K)\n",
    "    i_step = 0\n",
    "    for n_desc in range(n_desc_min,n_desc_max,n_desc_step):\n",
    "        for I_train,I_test in SKF:\n",
    "            i_step += 1\n",
    "            if dbg: print 'Data',X.shape\n",
    "            P_df=trainAndTestClassifiers(X,Y,I_test,I_train,n_desc,\n",
    "                                         TOPD=Markers,CLSF=Classifiers1,dbg=dbg)\n",
    "            P_df['n_obs']=n_pos+n_neg\n",
    "            P_df['n_pos']=n_pos\n",
    "            P_df['n_neg']=n_neg\n",
    "            P_df['dtp'] = DS['dtp']\n",
    "            P_df['tox'] = DS['tox']\n",
    "            P_df['cvk'] = K\n",
    "            P_df['itrl']= \"%d-%d\" % (trial,i_step)\n",
    "            Perf_cv += P_df.T.to_dict().values()\n",
    "        \n",
    "    return Perf_cv\n",
    "\n",
    "# The rest is just to make a summary table of performance results from all the replicates\n",
    "\n",
    "C1=pd.MultiIndex.from_tuples(\n",
    "[('n_desc', 'bio'),\n",
    " ('n_desc', 'chm'),\n",
    " ('n_desc', 'bc'),\n",
    " ('bacc', 'bio'),\n",
    " ('bacc', 'chm'),\n",
    " ('bacc', 'bc'),\n",
    " ('sens', 'bio'),\n",
    " ('sens', 'chm'),\n",
    " ('sens', 'bc'),\n",
    " ('spec', 'bio'),\n",
    " ('spec', 'chm'),\n",
    " ('spec', 'bc')])\n",
    "ii_tox=0\n",
    "ii_dtp=1\n",
    "ii_cl =2\n",
    "ii_cvk=3\n",
    "ii_nds=4\n",
    "ii_nob=5\n",
    "\n",
    "\n",
    "def buildMSTable1(P_st,cols=C1):\n",
    "    X= P_st.groupby(level=['tox','dtp','cl']).max()\n",
    "    Tox=set([i[0] for i in X.index])\n",
    "    Dtp=set([i[1] for i in X.index])\n",
    "    CL =set([i[2] for i in X.index])\n",
    "    Res=[]\n",
    "    for tox in Tox:\n",
    "        for dtp in Dtp:\n",
    "            for cl in CL:\n",
    "                Bacc=X.xs((tox,dtp,cl))['bacc']\n",
    "                Y = P_st.xs((tox,dtp,cl)).reset_index()[['n_desc','bacc']]\n",
    "                Y1 = Y[(Y['bacc']==Bacc)].n_desc\n",
    "                #print tox,dtp,cl,Bacc,int(Y1)\n",
    "                Res.append(dict(tox=tox,dtp=dtp,cl=cl,n_desc=int(list(Y1)[0])))\n",
    "    Res_df = pd.DataFrame(Res).set_index(['tox','dtp','cl'])\n",
    "    X = pd.merge(X,Res_df,left_index=True,right_index=True)\n",
    "    #X['bacc2'] = X.apply(lambda x: \"%3.2f(%d)\"%(x[1],x[-1]),axis=1)\n",
    "\n",
    "    T1 = np.round(pd.pivot_table(X.reset_index(),index=['tox','cl'],columns=['dtp'],values=['bacc','n_desc','sens','spec']),decimals=2)\n",
    "    return T1[cols]\n",
    "\n",
    "def buildMSTable2(P_mn,P_sd,cols=C1):\n",
    "    IMB_mn = buildMSTable1(P_mn)\n",
    "    IMB_sd = buildMSTable1(P_sd)\n",
    "\n",
    "    if len(cols)>0: \n",
    "        C1 = cols \n",
    "    else:\n",
    "        C1 = IMB_mn.columns\n",
    "        \n",
    "    R1=IMB_mn.index\n",
    "    IMB_res = pd.DataFrame(columns=C1,index=R1)\n",
    "\n",
    "    for i in [x for x in C1 if x[0]=='n_desc']:\n",
    "        IMB_res[i] = IMB_mn[i]\n",
    "\n",
    "    for r in R1:\n",
    "        for c in [c for c in C1 if c[0]!='n_desc']:\n",
    "            IMB_res.ix[r,c] = \"%3.2f (%3.2f)\" % (IMB_mn.ix[r,c],IMB_sd.ix[r,c]) \n",
    "\n",
    "    return IMB_res\n",
    "\n",
    "def buildMSTable11(P_st,cols=C1):\n",
    "    X= P_st.groupby(level=['tox','dtp']).max()\n",
    "    Tox=set([i[0] for i in X.index])\n",
    "    Dtp=set([i[1] for i in X.index])\n",
    "    Res=[]\n",
    "    for tox in Tox:\n",
    "        for dtp in Dtp:\n",
    "            Bacc=X.xs((tox,dtp))['bacc']\n",
    "            Y = P_st.xs((tox,dtp)).reset_index()[['n_desc','bacc']]\n",
    "            Y1 = Y[(Y['bacc']==Bacc)].n_desc\n",
    "            #print tox,dtp,cl,Bacc,int(Y1)\n",
    "            Res.append(dict(tox=tox,dtp=dtp,n_desc=int(list(Y1)[0])))\n",
    "    Res_df = pd.DataFrame(Res).set_index(['tox','dtp'])\n",
    "    X = pd.merge(X,Res_df,left_index=True,right_index=True)\n",
    "    #X['bacc2'] = X.apply(lambda x: \"%3.2f(%d)\"%(x[1],x[-1]),axis=1)\n",
    "\n",
    "    T1 = np.round(pd.pivot_table(X.reset_index(),index=['tox'],columns=['dtp'],values=['bacc','n_desc','sens','spec']),decimals=2)\n",
    "    return T1[cols]\n",
    "\n",
    "def buildMSTable21(P_mn,P_sd,cols=C1):\n",
    "    IMB_mn = buildMSTable11(P_mn)\n",
    "    IMB_sd = buildMSTable11(P_sd)\n",
    "\n",
    "    if len(cols)>0: \n",
    "        C1 = cols \n",
    "    else:\n",
    "        C1 = IMB_mn.columns\n",
    "    \n",
    "    R1=IMB_mn.index\n",
    "    IMB_res = pd.DataFrame(columns=C1,index=R1)\n",
    "\n",
    "    for i in [x for x in C1 if x[0]=='n_desc']:\n",
    "        IMB_res[i] = IMB_mn[i]\n",
    "\n",
    "    for r in R1:\n",
    "        for c in [c for c in C1 if c[0]!='n_desc']:\n",
    "            IMB_res.ix[r,c] = \"%3.2f (%3.2f)\" % (IMB_mn.ix[r,c],IMB_sd.ix[r,c]) \n",
    "\n",
    "    return IMB_res\n",
    "\n"
   ]
  },
  {
   "cell_type": "code",
   "execution_count": 15,
   "metadata": {
    "collapsed": true,
    "nbpresent": {
     "id": "1ebf9d6a-b52a-4b2f-949e-f38b9f5efeed"
    }
   },
   "outputs": [],
   "source": [
    "import bz2"
   ]
  },
  {
   "cell_type": "code",
   "execution_count": 16,
   "metadata": {
    "collapsed": false,
    "nbpresent": {
     "id": "e5646150-95de-4406-8710-d21d8f006fdc"
    }
   },
   "outputs": [],
   "source": [
    "# The data file integrates chm, bio and tox data\n",
    "import bz2\n",
    "DF = pd.read_csv(bz2.BZ2File('liv-tox-pred-1.csv.bz2','r'))\n",
    "DF1 = DF.set_index(['cid','CASRN','name'])"
   ]
  },
  {
   "cell_type": "code",
   "execution_count": 17,
   "metadata": {
    "collapsed": false,
    "nbpresent": {
     "id": "4cdb387c-3878-42ae-b9d8-fe70ec2c5465"
    }
   },
   "outputs": [
    {
     "name": "stdout",
     "output_type": "stream",
     "text": [
      "Tox 4  Bio 127  Chm 730\n"
     ]
    }
   ],
   "source": [
    "#Figure out the columns for each descriptor\n",
    "#print DF1.columns\n",
    "Col_tox = ['Hypertrophy', 'Injury', 'Proliferative.lesions', 'No.liver.lesions']\n",
    "Col_bio = [i for i in DF1.columns if re.search(r'^APR|^ATG|^ACEA|^NVS|^OT|^Tox21',i,re.I)]\n",
    "Col_chm = [i for i in DF1.columns if i not in Col_tox+Col_bio]\n",
    "\n",
    "print \"Tox\",len(Col_tox),\" Bio\",len(Col_bio),\" Chm\",len(Col_chm)\n",
    "\n",
    "# Now create the different datasets for ML\n",
    "#\n",
    "# DataSet:\n",
    "#   Desc: list of descriptors\n",
    "#   pos_cls: name of positive class\n",
    "#   neg_cls: name of negative class\n",
    "#   dtp: descriptor type bio|chm|bc\n",
    "#   Data: DataFrame containing all data\n",
    "#   title: string name for the data set\n",
    "\n",
    "ML1 = dict()\n",
    "ML1['Inj-bio']=dict(Desc=Col_bio,pos_cls='Injury',neg_cls='No.liver.lesions',dtp='bio',\n",
    "                Data=DF1,\n",
    "                title=\"Liver Injury ~ Bioactivity\")\n",
    "\n",
    "ML1['Hyp-bio']=dict(Desc=Col_bio,pos_cls='Hypertrophy',neg_cls='No.liver.lesions',dtp='bio',\n",
    "                Data=DF1,\n",
    "                title=\"Liver Hypertrophy ~ Bioactivity\")\n",
    "\n",
    "ML1['Pro-bio']=dict(Desc=Col_bio,pos_cls='Proliferative.lesions',neg_cls='No.liver.lesions',dtp='bio',\n",
    "                Data=DF1,\n",
    "                title=\"Liver Proliferative Lesions ~ Bioactivity\")\n",
    "\n",
    "ML1['Inj-chm']=dict(Desc=Col_chm,pos_cls='Injury',neg_cls='No.liver.lesions',dtp='chm',\n",
    "                Data=DF1,\n",
    "                title=\"Liver Injury ~ Chem\")\n",
    "\n",
    "ML1['Hyp-chm']=dict(Desc=Col_chm,pos_cls='Hypertrophy',neg_cls='No.liver.lesions',dtp='chm',\n",
    "                Data=DF1,\n",
    "                title=\"Liver Hypertrophy ~ Chem\")\n",
    "\n",
    "ML1['Pro-chm']=dict(Desc=Col_chm,pos_cls='Proliferative.lesions',neg_cls='No.liver.lesions',dtp='chm',\n",
    "                Data=DF1,\n",
    "                title=\"Liver Proliferative Lesions ~ Chem\")\n",
    "\n",
    "ML1['Inj-bc']=dict(Desc=Col_chm+Col_bio,pos_cls='Injury',neg_cls='No.liver.lesions',dtp='bc',\n",
    "                Data=DF1,\n",
    "                title=\"Liver Injury ~ Bio + Chem\")\n",
    "\n",
    "ML1['Hyp-bc']=dict(Desc=Col_chm+Col_bio,pos_cls='Hypertrophy',neg_cls='No.liver.lesions',dtp='bc',\n",
    "                Data=DF1,\n",
    "                title=\"Liver Hypertrophy ~ Bio + Chem\")\n",
    "\n",
    "ML1['Pro-bc']=dict(Desc=Col_chm+Col_bio,pos_cls='Proliferative.lesions',neg_cls='No.liver.lesions',dtp='bc',\n",
    "                Data=DF1,\n",
    "                title=\"Liver Proliferative Lesions ~ Bio + Chem\")\n",
    "\n",
    "for tox,V in ML1.iteritems():\n",
    "    V['tox']=tox.split('-')[0]\n",
    "    \n"
   ]
  },
  {
   "cell_type": "code",
   "execution_count": 18,
   "metadata": {
    "collapsed": false,
    "nbpresent": {
     "id": "7860a1b9-3c8e-4ff4-8601-4c92e6216ae6"
    }
   },
   "outputs": [
    {
     "name": "stdout",
     "output_type": "stream",
     "text": [
      "Pro-bc 99 463\n",
      "Pro-chm 99 463\n",
      "Inj-chm 101 463\n",
      "Hyp-bio 161 463\n",
      "Pro-bio 99 463\n",
      "Hyp-chm 161 463\n",
      "Inj-bio 101 463\n",
      "Inj-bc 101 463\n",
      "Hyp-bc 161 463\n"
     ]
    },
    {
     "data": {
      "text/plain": [
       "(677, 861)"
      ]
     },
     "execution_count": 18,
     "metadata": {},
     "output_type": "execute_result"
    }
   ],
   "source": [
    "for tox,DS in ML1.iteritems():\n",
    "    Data = DS['Data']\n",
    "    pos  = DS['pos_cls']\n",
    "    neg  = DS['neg_cls']\n",
    "    \n",
    "    print tox,np.sum(Data[pos]==1),np.sum(Data[neg]==1)\n"
   ]
  },
  {
   "cell_type": "code",
   "execution_count": 19,
   "metadata": {
    "collapsed": false,
    "nbpresent": {
     "id": "230253f3-1933-4102-8eb0-8685ced52751"
    }
   },
   "outputs": [
    {
     "name": "stdout",
     "output_type": "stream",
     "text": [
      "\n",
      ">> Liver Hypertrophy ~ Chem 0 04/08/2016 13:35\n",
      "  >  No. of pos: 10 (res: 0) 04/08/2016 13:35\n",
      "  >  No. of pos: 20 (res: 4200) 04/08/2016 13:36\n",
      "  >  No. of pos: 30 (res: 8400) 04/08/2016 13:36\n",
      "  >  No. of pos: 40 (res: 12600) 04/08/2016 13:37\n",
      "  >  No. of pos: 50 (res: 16800) 04/08/2016 13:38\n",
      "  >  No. of pos: 60 (res: 21000) 04/08/2016 13:39\n",
      "  >  No. of pos: 70 (res: 25200) 04/08/2016 13:40\n",
      "  >  No. of pos: 80 (res: 29400) 04/08/2016 13:40\n",
      "  >  No. of pos: 90 (res: 33600) 04/08/2016 13:41\n",
      "  >  No. of pos: 100 (res: 37800) 04/08/2016 13:42\n",
      "  >  No. of pos: 110 (res: 42000) 04/08/2016 13:42\n",
      "  >  No. of pos: 120 (res: 46200) 04/08/2016 13:43\n",
      "  >  No. of pos: 130 (res: 50400) 04/08/2016 13:44\n",
      "  >  No. of pos: 140 (res: 54600) 04/08/2016 13:45\n",
      "  >  No. of pos: 150 (res: 58800) 04/08/2016 13:45\n",
      "  >  No. of pos: 160 (res: 63000) 04/08/2016 13:46\n",
      "\n",
      ">> Liver Hypertrophy ~ Bioactivity 67200 04/08/2016 13:47\n",
      "  >  No. of pos: 10 (res: 0) 04/08/2016 13:47\n",
      "  >  No. of pos: 20 (res: 4200) 04/08/2016 13:47\n",
      "  >  No. of pos: 30 (res: 8400) 04/08/2016 13:48\n",
      "  >  No. of pos: 40 (res: 12600) 04/08/2016 13:48\n",
      "  >  No. of pos: 50 (res: 16800) 04/08/2016 13:49\n",
      "  >  No. of pos: 60 (res: 21000) 04/08/2016 13:49\n",
      "  >  No. of pos: 70 (res: 25200) 04/08/2016 13:50\n",
      "  >  No. of pos: 80 (res: 29400) 04/08/2016 13:51\n",
      "  >  No. of pos: 90 (res: 33600) 04/08/2016 13:51\n",
      "  >  No. of pos: 100 (res: 37800) 04/08/2016 13:52\n",
      "  >  No. of pos: 110 (res: 42000) 04/08/2016 13:52\n",
      "  >  No. of pos: 120 (res: 46200) 04/08/2016 13:53\n",
      "  >  No. of pos: 130 (res: 50400) 04/08/2016 13:54\n",
      "  >  No. of pos: 140 (res: 54600) 04/08/2016 13:54\n",
      "  >  No. of pos: 150 (res: 58800) 04/08/2016 13:55\n",
      "  >  No. of pos: 160 (res: 63000) 04/08/2016 13:56\n",
      "\n",
      ">> Liver Hypertrophy ~ Bio + Chem 134400 04/08/2016 13:57\n",
      "  >  No. of pos: 10 (res: 0) 04/08/2016 13:57\n",
      "  >  No. of pos: 20 (res: 4200) 04/08/2016 13:57\n",
      "  >  No. of pos: 30 (res: 8400) 04/08/2016 13:58\n",
      "  >  No. of pos: 40 (res: 12600) 04/08/2016 13:58\n",
      "  >  No. of pos: 50 (res: 16800) 04/08/2016 13:59\n",
      "  >  No. of pos: 60 (res: 21000) 04/08/2016 13:59\n",
      "  >  No. of pos: 70 (res: 25200) 04/08/2016 14:00\n",
      "  >  No. of pos: 80 (res: 29400) 04/08/2016 14:01\n",
      "  >  No. of pos: 90 (res: 33600) 04/08/2016 14:01\n",
      "  >  No. of pos: 100 (res: 37800) 04/08/2016 14:02\n",
      "  >  No. of pos: 110 (res: 42000) 04/08/2016 14:03\n",
      "  >  No. of pos: 120 (res: 46200) 04/08/2016 14:03\n",
      "  >  No. of pos: 130 (res: 50400) 04/08/2016 14:04\n",
      "  >  No. of pos: 140 (res: 54600) 04/08/2016 14:05\n",
      "  >  No. of pos: 150 (res: 58800) 04/08/2016 14:06\n",
      "  >  No. of pos: 160 (res: 63000) 04/08/2016 14:06\n",
      "\n",
      ">> Liver Injury ~ Chem 201600 04/08/2016 14:07\n",
      "  >  No. of pos: 10 (res: 0) 04/08/2016 14:07\n",
      "  >  No. of pos: 20 (res: 4200) 04/08/2016 14:08\n",
      "  >  No. of pos: 30 (res: 8400) 04/08/2016 14:08\n",
      "  >  No. of pos: 40 (res: 12600) 04/08/2016 14:09\n",
      "  >  No. of pos: 50 (res: 16800) 04/08/2016 14:10\n",
      "  >  No. of pos: 60 (res: 21000) 04/08/2016 14:10\n",
      "  >  No. of pos: 70 (res: 25200) 04/08/2016 14:11\n",
      "  >  No. of pos: 80 (res: 29400) 04/08/2016 14:11\n",
      "  >  No. of pos: 90 (res: 33600) 04/08/2016 14:12\n",
      "  >  No. of pos: 100 (res: 37800) 04/08/2016 14:13\n",
      "\n",
      ">> Liver Injury ~ Bioactivity 243600 04/08/2016 14:13\n",
      "  >  No. of pos: 10 (res: 0) 04/08/2016 14:13\n",
      "  >  No. of pos: 20 (res: 4200) 04/08/2016 14:14\n",
      "  >  No. of pos: 30 (res: 8400) 04/08/2016 14:14\n",
      "  >  No. of pos: 40 (res: 12600) 04/08/2016 14:15\n",
      "  >  No. of pos: 50 (res: 16800) 04/08/2016 14:15\n",
      "  >  No. of pos: 60 (res: 21000) 04/08/2016 14:16\n",
      "  >  No. of pos: 70 (res: 25200) 04/08/2016 14:16\n",
      "  >  No. of pos: 80 (res: 29400) 04/08/2016 14:17\n",
      "  >  No. of pos: 90 (res: 33600) 04/08/2016 14:17\n",
      "  >  No. of pos: 100 (res: 37800) 04/08/2016 14:18\n",
      "\n",
      ">> Liver Injury ~ Bio + Chem 285600 04/08/2016 14:18\n",
      "  >  No. of pos: 10 (res: 0) 04/08/2016 14:18\n",
      "  >  No. of pos: 20 (res: 4200) 04/08/2016 14:19\n",
      "  >  No. of pos: 30 (res: 8400) 04/08/2016 14:19\n",
      "  >  No. of pos: 40 (res: 12600) 04/08/2016 14:20\n",
      "  >  No. of pos: 50 (res: 16800) 04/08/2016 14:22\n",
      "  >  No. of pos: 60 (res: 21000) 04/08/2016 14:22\n",
      "  >  No. of pos: 70 (res: 25200) 04/08/2016 14:23\n",
      "  >  No. of pos: 80 (res: 29400) 04/08/2016 14:23\n",
      "  >  No. of pos: 90 (res: 33600) 04/08/2016 14:24\n",
      "  >  No. of pos: 100 (res: 37800) 04/08/2016 14:25\n",
      "\n",
      ">> Liver Proliferative Lesions ~ Chem 327600 04/08/2016 14:25\n",
      "  >  No. of pos: 10 (res: 0) 04/08/2016 14:25\n",
      "  >  No. of pos: 20 (res: 4200) 04/08/2016 14:26\n",
      "  >  No. of pos: 30 (res: 8400) 04/08/2016 14:27\n",
      "  >  No. of pos: 40 (res: 12600) 04/08/2016 14:27\n",
      "  >  No. of pos: 50 (res: 16800) 04/08/2016 14:28\n",
      "  >  No. of pos: 60 (res: 21000) 04/08/2016 14:28\n",
      "  >  No. of pos: 70 (res: 25200) 04/08/2016 14:29\n",
      "  >  No. of pos: 80 (res: 29400) 04/08/2016 14:30\n",
      "  >  No. of pos: 90 (res: 33600) 04/08/2016 14:30\n",
      "\n",
      ">> Liver Proliferative Lesions ~ Bioactivity 365400 04/08/2016 14:31\n",
      "  >  No. of pos: 10 (res: 0) 04/08/2016 14:31\n",
      "  >  No. of pos: 20 (res: 4200) 04/08/2016 14:32\n",
      "  >  No. of pos: 30 (res: 8400) 04/08/2016 14:32\n",
      "  >  No. of pos: 40 (res: 12600) 04/08/2016 14:32\n",
      "  >  No. of pos: 50 (res: 16800) 04/08/2016 14:33\n",
      "  >  No. of pos: 60 (res: 21000) 04/08/2016 14:33\n",
      "  >  No. of pos: 70 (res: 25200) 04/08/2016 14:34\n",
      "  >  No. of pos: 80 (res: 29400) 04/08/2016 14:35\n",
      "  >  No. of pos: 90 (res: 33600) 04/08/2016 14:35\n",
      "\n",
      ">> Liver Proliferative Lesions ~ Bio + Chem 403200 04/08/2016 14:36\n",
      "  >  No. of pos: 10 (res: 0) 04/08/2016 14:36\n",
      "  >  No. of pos: 20 (res: 4200) 04/08/2016 14:36\n",
      "  >  No. of pos: 30 (res: 8400) 04/08/2016 14:37\n",
      "  >  No. of pos: 40 (res: 12600) 04/08/2016 14:38\n",
      "  >  No. of pos: 50 (res: 16800) 04/08/2016 14:38\n",
      "  >  No. of pos: 60 (res: 21000) 04/08/2016 14:39\n",
      "  >  No. of pos: 70 (res: 25200) 04/08/2016 14:39\n",
      "  >  No. of pos: 80 (res: 29400) 04/08/2016 14:40\n",
      "  >  No. of pos: 90 (res: 33600) 04/08/2016 14:41\n",
      "> ML analysis done  04/08/2016 14:41\n"
     ]
    }
   ],
   "source": [
    "# This is how to run the whole ML strategy   \n",
    "# \n",
    "import time\n",
    "\n",
    "PERF   = []\n",
    "TOPDESC={}\n",
    "i_trl = 0\n",
    "for tox in ['Hyp-chm','Hyp-bio','Hyp-bc',\n",
    "            'Inj-chm','Inj-bio','Inj-bc',\n",
    "            'Pro-chm','Pro-bio','Pro-bc',\n",
    "            ]:\n",
    "    DS = ML1[tox]\n",
    "    Markers = {}\n",
    "    Res = []\n",
    "    print \"\\n>>\", DS['title'],len(PERF),time.strftime(\"%d/%m/%Y %H:%M\",time.localtime())\n",
    "\n",
    "    Data = DS['Data']\n",
    "    Y_pos = Data[DS['pos_cls']]\n",
    "    X_pos = Data[DS['Desc']].ix[Y_pos==1,:]\n",
    "    N_pos = np.sum(Y_pos[Y_pos==1])\n",
    " \n",
    "    for n_pos in range(10,N_pos,10):\n",
    "        print \"  >  No. of pos: %d (res: %d)\" % (n_pos,len(Res)),time.strftime(\"%d/%m/%Y %H:%M\",time.localtime())\n",
    "        # This runs 5 undersampled datasets  -- need at least 20\n",
    "        for i in range(5):    \n",
    "            i_trl+=1\n",
    "            Res += resampleBalCVLearn(n_pos=n_pos,n_neg=n_pos,trial=i_trl,\n",
    "                                    n_desc_min=10,n_desc_max=70,n_desc_step=5,\n",
    "                                    K=10,DS=DS,TOPD=Markers,CLSF=Classifiers1,dbg=False)\n",
    "\n",
    "    PERF += Res\n",
    "    TOPDESC[tox]=Markers\n",
    "\n",
    "\n",
    "print \"> ML analysis done \",time.strftime(\"%d/%m/%Y %H:%M\",time.localtime())\n",
    "\n",
    "PERF2_df = pd.DataFrame(PERF)\n",
    "PERF2_df.set_index(['tox','dtp','cl','itrl','cvk','n_desc','n_pos','n_neg','n_obs'],inplace=True)\n",
    "# These are variables used further below\n",
    "TOP_DESC=TOPDESC"
   ]
  },
  {
   "cell_type": "code",
   "execution_count": 20,
   "metadata": {
    "collapsed": false,
    "nbpresent": {
     "id": "01a3df9e-4bad-4fe3-8ee4-87ae05022ea8"
    }
   },
   "outputs": [],
   "source": [
    "P2_mn = PERF2_df.groupby(level=['tox','dtp','cl','cvk','n_desc','n_obs']).mean()\n",
    "P2_sd = PERF2_df.groupby(level=['tox','dtp','cl','cvk','n_desc','n_obs']).std()\n"
   ]
  },
  {
   "cell_type": "code",
   "execution_count": 21,
   "metadata": {
    "collapsed": false,
    "nbpresent": {
     "id": "df415a4d-fc28-4287-8933-78659da6034d"
    }
   },
   "outputs": [],
   "source": [
    "# FInd the rows containing the max number of examples\n",
    "X = P2_mn.reset_index()\n",
    "N_obs=X[['tox','n_obs']].groupby('tox').max().to_dict()['n_obs']\n",
    "Y = []\n",
    "for tox,n_obs in N_obs.iteritems():\n",
    "    X1 = X[(X['tox']==tox) & (X['n_obs']==n_obs)]\n",
    "    Y += [X1.irow(i).to_dict() for i in range(X1.shape[0])]\n",
    "P21_mn = pd.DataFrame(Y)\n",
    "P21_mn.set_index(['tox','dtp','cl','cvk','n_desc','n_obs'],inplace=True)\n",
    "P21_mn = P21_mn.groupby(level=['tox','dtp','cl','cvk','n_desc','n_obs']).mean()\n",
    "\n",
    "X = P2_sd.reset_index()\n",
    "Y = []\n",
    "for tox,n_obs in N_obs.iteritems():\n",
    "    X1 = X[(X['tox']==tox) & (X['n_obs']==n_obs)]\n",
    "    Y += [X1.irow(i).to_dict() for i in range(X1.shape[0])]\n",
    "P21_sd = pd.DataFrame(Y).set_index(['tox','dtp','cl','cvk','n_desc','n_obs'])\n",
    "P21_sd = P21_sd.groupby(level=['tox','dtp','cl','cvk','n_desc','n_obs']).mean()\n"
   ]
  },
  {
   "cell_type": "code",
   "execution_count": 22,
   "metadata": {
    "collapsed": false,
    "nbpresent": {
     "id": "137b34cd-f744-4d80-82c1-6d613dca9ff2"
    }
   },
   "outputs": [
    {
     "data": {
      "text/html": [
       "<div>\n",
       "<table border=\"1\" class=\"dataframe\">\n",
       "  <thead>\n",
       "    <tr>\n",
       "      <th></th>\n",
       "      <th></th>\n",
       "      <th colspan=\"3\" halign=\"left\">n_desc</th>\n",
       "      <th colspan=\"3\" halign=\"left\">bacc</th>\n",
       "      <th colspan=\"3\" halign=\"left\">sens</th>\n",
       "      <th colspan=\"3\" halign=\"left\">spec</th>\n",
       "    </tr>\n",
       "    <tr>\n",
       "      <th></th>\n",
       "      <th></th>\n",
       "      <th>bio</th>\n",
       "      <th>chm</th>\n",
       "      <th>bc</th>\n",
       "      <th>bio</th>\n",
       "      <th>chm</th>\n",
       "      <th>bc</th>\n",
       "      <th>bio</th>\n",
       "      <th>chm</th>\n",
       "      <th>bc</th>\n",
       "      <th>bio</th>\n",
       "      <th>chm</th>\n",
       "      <th>bc</th>\n",
       "    </tr>\n",
       "    <tr>\n",
       "      <th>tox</th>\n",
       "      <th>cl</th>\n",
       "      <th></th>\n",
       "      <th></th>\n",
       "      <th></th>\n",
       "      <th></th>\n",
       "      <th></th>\n",
       "      <th></th>\n",
       "      <th></th>\n",
       "      <th></th>\n",
       "      <th></th>\n",
       "      <th></th>\n",
       "      <th></th>\n",
       "      <th></th>\n",
       "    </tr>\n",
       "  </thead>\n",
       "  <tbody>\n",
       "    <tr>\n",
       "      <th rowspan=\"7\" valign=\"top\">Hyp</th>\n",
       "      <th>CART0</th>\n",
       "      <td>55.0</td>\n",
       "      <td>65.0</td>\n",
       "      <td>65.0</td>\n",
       "      <td>0.80 (0.09)</td>\n",
       "      <td>0.80 (0.10)</td>\n",
       "      <td>0.81 (0.09)</td>\n",
       "      <td>0.75 (0.13)</td>\n",
       "      <td>0.82 (0.14)</td>\n",
       "      <td>0.82 (0.16)</td>\n",
       "      <td>0.87 (0.11)</td>\n",
       "      <td>0.79 (0.14)</td>\n",
       "      <td>0.84 (0.13)</td>\n",
       "    </tr>\n",
       "    <tr>\n",
       "      <th>ENSMB</th>\n",
       "      <td>50.0</td>\n",
       "      <td>65.0</td>\n",
       "      <td>50.0</td>\n",
       "      <td>0.81 (0.08)</td>\n",
       "      <td>0.77 (0.09)</td>\n",
       "      <td>0.81 (0.10)</td>\n",
       "      <td>0.68 (0.14)</td>\n",
       "      <td>0.73 (0.13)</td>\n",
       "      <td>0.76 (0.16)</td>\n",
       "      <td>0.94 (0.08)</td>\n",
       "      <td>0.81 (0.13)</td>\n",
       "      <td>0.88 (0.11)</td>\n",
       "    </tr>\n",
       "    <tr>\n",
       "      <th>KNN1</th>\n",
       "      <td>50.0</td>\n",
       "      <td>65.0</td>\n",
       "      <td>55.0</td>\n",
       "      <td>0.73 (0.12)</td>\n",
       "      <td>0.74 (0.10)</td>\n",
       "      <td>0.77 (0.11)</td>\n",
       "      <td>0.76 (0.15)</td>\n",
       "      <td>0.81 (0.16)</td>\n",
       "      <td>0.79 (0.16)</td>\n",
       "      <td>0.71 (0.25)</td>\n",
       "      <td>0.74 (0.20)</td>\n",
       "      <td>0.78 (0.25)</td>\n",
       "    </tr>\n",
       "    <tr>\n",
       "      <th>LDA</th>\n",
       "      <td>50.0</td>\n",
       "      <td>65.0</td>\n",
       "      <td>35.0</td>\n",
       "      <td>0.77 (0.09)</td>\n",
       "      <td>0.73 (0.09)</td>\n",
       "      <td>0.79 (0.10)</td>\n",
       "      <td>0.70 (0.15)</td>\n",
       "      <td>0.70 (0.12)</td>\n",
       "      <td>0.74 (0.16)</td>\n",
       "      <td>0.88 (0.11)</td>\n",
       "      <td>0.80 (0.14)</td>\n",
       "      <td>0.84 (0.11)</td>\n",
       "    </tr>\n",
       "    <tr>\n",
       "      <th>NB</th>\n",
       "      <td>25.0</td>\n",
       "      <td>50.0</td>\n",
       "      <td>50.0</td>\n",
       "      <td>0.71 (0.09)</td>\n",
       "      <td>0.70 (0.09)</td>\n",
       "      <td>0.75 (0.11)</td>\n",
       "      <td>0.69 (0.26)</td>\n",
       "      <td>0.78 (0.19)</td>\n",
       "      <td>0.77 (0.19)</td>\n",
       "      <td>0.94 (0.33)</td>\n",
       "      <td>0.85 (0.25)</td>\n",
       "      <td>0.83 (0.21)</td>\n",
       "    </tr>\n",
       "    <tr>\n",
       "      <th>SVCL0</th>\n",
       "      <td>60.0</td>\n",
       "      <td>65.0</td>\n",
       "      <td>55.0</td>\n",
       "      <td>0.78 (0.08)</td>\n",
       "      <td>0.73 (0.09)</td>\n",
       "      <td>0.79 (0.11)</td>\n",
       "      <td>0.70 (0.14)</td>\n",
       "      <td>0.69 (0.13)</td>\n",
       "      <td>0.76 (0.16)</td>\n",
       "      <td>0.89 (0.10)</td>\n",
       "      <td>0.79 (0.14)</td>\n",
       "      <td>0.83 (0.13)</td>\n",
       "    </tr>\n",
       "    <tr>\n",
       "      <th>SVCR0</th>\n",
       "      <td>20.0</td>\n",
       "      <td>60.0</td>\n",
       "      <td>25.0</td>\n",
       "      <td>0.78 (0.08)</td>\n",
       "      <td>0.74 (0.09)</td>\n",
       "      <td>0.78 (0.09)</td>\n",
       "      <td>0.84 (0.21)</td>\n",
       "      <td>0.76 (0.19)</td>\n",
       "      <td>0.85 (0.21)</td>\n",
       "      <td>0.97 (0.22)</td>\n",
       "      <td>0.79 (0.19)</td>\n",
       "      <td>0.94 (0.21)</td>\n",
       "    </tr>\n",
       "    <tr>\n",
       "      <th rowspan=\"7\" valign=\"top\">Inj</th>\n",
       "      <th>CART0</th>\n",
       "      <td>65.0</td>\n",
       "      <td>45.0</td>\n",
       "      <td>40.0</td>\n",
       "      <td>0.76 (0.12)</td>\n",
       "      <td>0.77 (0.11)</td>\n",
       "      <td>0.78 (0.10)</td>\n",
       "      <td>0.73 (0.19)</td>\n",
       "      <td>0.81 (0.20)</td>\n",
       "      <td>0.81 (0.18)</td>\n",
       "      <td>0.85 (0.15)</td>\n",
       "      <td>0.79 (0.16)</td>\n",
       "      <td>0.79 (0.18)</td>\n",
       "    </tr>\n",
       "    <tr>\n",
       "      <th>ENSMB</th>\n",
       "      <td>65.0</td>\n",
       "      <td>60.0</td>\n",
       "      <td>30.0</td>\n",
       "      <td>0.78 (0.11)</td>\n",
       "      <td>0.75 (0.11)</td>\n",
       "      <td>0.75 (0.10)</td>\n",
       "      <td>0.66 (0.17)</td>\n",
       "      <td>0.73 (0.18)</td>\n",
       "      <td>0.71 (0.19)</td>\n",
       "      <td>0.91 (0.14)</td>\n",
       "      <td>0.81 (0.15)</td>\n",
       "      <td>0.82 (0.16)</td>\n",
       "    </tr>\n",
       "    <tr>\n",
       "      <th>KNN1</th>\n",
       "      <td>40.0</td>\n",
       "      <td>40.0</td>\n",
       "      <td>45.0</td>\n",
       "      <td>0.68 (0.12)</td>\n",
       "      <td>0.73 (0.13)</td>\n",
       "      <td>0.72 (0.12)</td>\n",
       "      <td>0.73 (0.19)</td>\n",
       "      <td>0.79 (0.24)</td>\n",
       "      <td>0.77 (0.21)</td>\n",
       "      <td>0.70 (0.24)</td>\n",
       "      <td>0.72 (0.32)</td>\n",
       "      <td>0.69 (0.26)</td>\n",
       "    </tr>\n",
       "    <tr>\n",
       "      <th>LDA</th>\n",
       "      <td>65.0</td>\n",
       "      <td>65.0</td>\n",
       "      <td>25.0</td>\n",
       "      <td>0.73 (0.12)</td>\n",
       "      <td>0.73 (0.12)</td>\n",
       "      <td>0.74 (0.09)</td>\n",
       "      <td>0.71 (0.16)</td>\n",
       "      <td>0.72 (0.18)</td>\n",
       "      <td>0.73 (0.19)</td>\n",
       "      <td>0.80 (0.16)</td>\n",
       "      <td>0.80 (0.16)</td>\n",
       "      <td>0.80 (0.15)</td>\n",
       "    </tr>\n",
       "    <tr>\n",
       "      <th>NB</th>\n",
       "      <td>60.0</td>\n",
       "      <td>10.0</td>\n",
       "      <td>50.0</td>\n",
       "      <td>0.69 (0.11)</td>\n",
       "      <td>0.68 (0.11)</td>\n",
       "      <td>0.69 (0.10)</td>\n",
       "      <td>0.63 (0.23)</td>\n",
       "      <td>0.83 (0.23)</td>\n",
       "      <td>0.79 (0.30)</td>\n",
       "      <td>0.90 (0.24)</td>\n",
       "      <td>0.81 (0.28)</td>\n",
       "      <td>0.68 (0.32)</td>\n",
       "    </tr>\n",
       "    <tr>\n",
       "      <th>SVCL0</th>\n",
       "      <td>60.0</td>\n",
       "      <td>65.0</td>\n",
       "      <td>45.0</td>\n",
       "      <td>0.74 (0.11)</td>\n",
       "      <td>0.72 (0.12)</td>\n",
       "      <td>0.74 (0.09)</td>\n",
       "      <td>0.67 (0.18)</td>\n",
       "      <td>0.69 (0.17)</td>\n",
       "      <td>0.74 (0.17)</td>\n",
       "      <td>0.84 (0.15)</td>\n",
       "      <td>0.80 (0.16)</td>\n",
       "      <td>0.80 (0.16)</td>\n",
       "    </tr>\n",
       "    <tr>\n",
       "      <th>SVCR0</th>\n",
       "      <td>65.0</td>\n",
       "      <td>65.0</td>\n",
       "      <td>60.0</td>\n",
       "      <td>0.78 (0.11)</td>\n",
       "      <td>0.74 (0.12)</td>\n",
       "      <td>0.74 (0.11)</td>\n",
       "      <td>0.64 (0.18)</td>\n",
       "      <td>0.69 (0.21)</td>\n",
       "      <td>0.75 (0.23)</td>\n",
       "      <td>0.96 (0.21)</td>\n",
       "      <td>0.89 (0.20)</td>\n",
       "      <td>0.91 (0.21)</td>\n",
       "    </tr>\n",
       "    <tr>\n",
       "      <th rowspan=\"7\" valign=\"top\">Pro</th>\n",
       "      <th>CART0</th>\n",
       "      <td>20.0</td>\n",
       "      <td>65.0</td>\n",
       "      <td>65.0</td>\n",
       "      <td>0.72 (0.12)</td>\n",
       "      <td>0.76 (0.12)</td>\n",
       "      <td>0.75 (0.10)</td>\n",
       "      <td>0.69 (0.19)</td>\n",
       "      <td>0.79 (0.20)</td>\n",
       "      <td>0.78 (0.20)</td>\n",
       "      <td>0.82 (0.20)</td>\n",
       "      <td>0.74 (0.20)</td>\n",
       "      <td>0.80 (0.18)</td>\n",
       "    </tr>\n",
       "    <tr>\n",
       "      <th>ENSMB</th>\n",
       "      <td>60.0</td>\n",
       "      <td>65.0</td>\n",
       "      <td>65.0</td>\n",
       "      <td>0.74 (0.12)</td>\n",
       "      <td>0.75 (0.12)</td>\n",
       "      <td>0.75 (0.11)</td>\n",
       "      <td>0.66 (0.21)</td>\n",
       "      <td>0.75 (0.21)</td>\n",
       "      <td>0.69 (0.20)</td>\n",
       "      <td>0.82 (0.17)</td>\n",
       "      <td>0.76 (0.20)</td>\n",
       "      <td>0.82 (0.17)</td>\n",
       "    </tr>\n",
       "    <tr>\n",
       "      <th>KNN1</th>\n",
       "      <td>55.0</td>\n",
       "      <td>65.0</td>\n",
       "      <td>50.0</td>\n",
       "      <td>0.66 (0.12)</td>\n",
       "      <td>0.71 (0.12)</td>\n",
       "      <td>0.71 (0.14)</td>\n",
       "      <td>0.76 (0.24)</td>\n",
       "      <td>0.89 (0.25)</td>\n",
       "      <td>0.80 (0.23)</td>\n",
       "      <td>0.60 (0.29)</td>\n",
       "      <td>0.64 (0.34)</td>\n",
       "      <td>0.67 (0.30)</td>\n",
       "    </tr>\n",
       "    <tr>\n",
       "      <th>LDA</th>\n",
       "      <td>65.0</td>\n",
       "      <td>60.0</td>\n",
       "      <td>65.0</td>\n",
       "      <td>0.69 (0.12)</td>\n",
       "      <td>0.73 (0.12)</td>\n",
       "      <td>0.71 (0.11)</td>\n",
       "      <td>0.70 (0.20)</td>\n",
       "      <td>0.75 (0.21)</td>\n",
       "      <td>0.71 (0.19)</td>\n",
       "      <td>0.80 (0.18)</td>\n",
       "      <td>0.72 (0.19)</td>\n",
       "      <td>0.78 (0.19)</td>\n",
       "    </tr>\n",
       "    <tr>\n",
       "      <th>NB</th>\n",
       "      <td>10.0</td>\n",
       "      <td>45.0</td>\n",
       "      <td>35.0</td>\n",
       "      <td>0.62 (0.11)</td>\n",
       "      <td>0.70 (0.12)</td>\n",
       "      <td>0.68 (0.12)</td>\n",
       "      <td>0.78 (0.29)</td>\n",
       "      <td>0.84 (0.23)</td>\n",
       "      <td>0.70 (0.21)</td>\n",
       "      <td>0.78 (0.33)</td>\n",
       "      <td>0.78 (0.24)</td>\n",
       "      <td>0.84 (0.31)</td>\n",
       "    </tr>\n",
       "    <tr>\n",
       "      <th>SVCL0</th>\n",
       "      <td>65.0</td>\n",
       "      <td>60.0</td>\n",
       "      <td>60.0</td>\n",
       "      <td>0.69 (0.13)</td>\n",
       "      <td>0.74 (0.12)</td>\n",
       "      <td>0.71 (0.12)</td>\n",
       "      <td>0.64 (0.20)</td>\n",
       "      <td>0.76 (0.21)</td>\n",
       "      <td>0.73 (0.19)</td>\n",
       "      <td>0.81 (0.17)</td>\n",
       "      <td>0.72 (0.22)</td>\n",
       "      <td>0.80 (0.19)</td>\n",
       "    </tr>\n",
       "    <tr>\n",
       "      <th>SVCR0</th>\n",
       "      <td>65.0</td>\n",
       "      <td>65.0</td>\n",
       "      <td>65.0</td>\n",
       "      <td>0.74 (0.12)</td>\n",
       "      <td>0.74 (0.12)</td>\n",
       "      <td>0.73 (0.10)</td>\n",
       "      <td>0.63 (0.22)</td>\n",
       "      <td>0.73 (0.21)</td>\n",
       "      <td>0.71 (0.24)</td>\n",
       "      <td>0.93 (0.23)</td>\n",
       "      <td>0.84 (0.21)</td>\n",
       "      <td>0.88 (0.24)</td>\n",
       "    </tr>\n",
       "  </tbody>\n",
       "</table>\n",
       "</div>"
      ],
      "text/plain": [
       "          n_desc                     bacc                            \\\n",
       "             bio   chm    bc          bio          chm           bc   \n",
       "tox cl                                                                \n",
       "Hyp CART0   55.0  65.0  65.0  0.80 (0.09)  0.80 (0.10)  0.81 (0.09)   \n",
       "    ENSMB   50.0  65.0  50.0  0.81 (0.08)  0.77 (0.09)  0.81 (0.10)   \n",
       "    KNN1    50.0  65.0  55.0  0.73 (0.12)  0.74 (0.10)  0.77 (0.11)   \n",
       "    LDA     50.0  65.0  35.0  0.77 (0.09)  0.73 (0.09)  0.79 (0.10)   \n",
       "    NB      25.0  50.0  50.0  0.71 (0.09)  0.70 (0.09)  0.75 (0.11)   \n",
       "    SVCL0   60.0  65.0  55.0  0.78 (0.08)  0.73 (0.09)  0.79 (0.11)   \n",
       "    SVCR0   20.0  60.0  25.0  0.78 (0.08)  0.74 (0.09)  0.78 (0.09)   \n",
       "Inj CART0   65.0  45.0  40.0  0.76 (0.12)  0.77 (0.11)  0.78 (0.10)   \n",
       "    ENSMB   65.0  60.0  30.0  0.78 (0.11)  0.75 (0.11)  0.75 (0.10)   \n",
       "    KNN1    40.0  40.0  45.0  0.68 (0.12)  0.73 (0.13)  0.72 (0.12)   \n",
       "    LDA     65.0  65.0  25.0  0.73 (0.12)  0.73 (0.12)  0.74 (0.09)   \n",
       "    NB      60.0  10.0  50.0  0.69 (0.11)  0.68 (0.11)  0.69 (0.10)   \n",
       "    SVCL0   60.0  65.0  45.0  0.74 (0.11)  0.72 (0.12)  0.74 (0.09)   \n",
       "    SVCR0   65.0  65.0  60.0  0.78 (0.11)  0.74 (0.12)  0.74 (0.11)   \n",
       "Pro CART0   20.0  65.0  65.0  0.72 (0.12)  0.76 (0.12)  0.75 (0.10)   \n",
       "    ENSMB   60.0  65.0  65.0  0.74 (0.12)  0.75 (0.12)  0.75 (0.11)   \n",
       "    KNN1    55.0  65.0  50.0  0.66 (0.12)  0.71 (0.12)  0.71 (0.14)   \n",
       "    LDA     65.0  60.0  65.0  0.69 (0.12)  0.73 (0.12)  0.71 (0.11)   \n",
       "    NB      10.0  45.0  35.0  0.62 (0.11)  0.70 (0.12)  0.68 (0.12)   \n",
       "    SVCL0   65.0  60.0  60.0  0.69 (0.13)  0.74 (0.12)  0.71 (0.12)   \n",
       "    SVCR0   65.0  65.0  65.0  0.74 (0.12)  0.74 (0.12)  0.73 (0.10)   \n",
       "\n",
       "                  sens                                   spec               \\\n",
       "                   bio          chm           bc          bio          chm   \n",
       "tox cl                                                                       \n",
       "Hyp CART0  0.75 (0.13)  0.82 (0.14)  0.82 (0.16)  0.87 (0.11)  0.79 (0.14)   \n",
       "    ENSMB  0.68 (0.14)  0.73 (0.13)  0.76 (0.16)  0.94 (0.08)  0.81 (0.13)   \n",
       "    KNN1   0.76 (0.15)  0.81 (0.16)  0.79 (0.16)  0.71 (0.25)  0.74 (0.20)   \n",
       "    LDA    0.70 (0.15)  0.70 (0.12)  0.74 (0.16)  0.88 (0.11)  0.80 (0.14)   \n",
       "    NB     0.69 (0.26)  0.78 (0.19)  0.77 (0.19)  0.94 (0.33)  0.85 (0.25)   \n",
       "    SVCL0  0.70 (0.14)  0.69 (0.13)  0.76 (0.16)  0.89 (0.10)  0.79 (0.14)   \n",
       "    SVCR0  0.84 (0.21)  0.76 (0.19)  0.85 (0.21)  0.97 (0.22)  0.79 (0.19)   \n",
       "Inj CART0  0.73 (0.19)  0.81 (0.20)  0.81 (0.18)  0.85 (0.15)  0.79 (0.16)   \n",
       "    ENSMB  0.66 (0.17)  0.73 (0.18)  0.71 (0.19)  0.91 (0.14)  0.81 (0.15)   \n",
       "    KNN1   0.73 (0.19)  0.79 (0.24)  0.77 (0.21)  0.70 (0.24)  0.72 (0.32)   \n",
       "    LDA    0.71 (0.16)  0.72 (0.18)  0.73 (0.19)  0.80 (0.16)  0.80 (0.16)   \n",
       "    NB     0.63 (0.23)  0.83 (0.23)  0.79 (0.30)  0.90 (0.24)  0.81 (0.28)   \n",
       "    SVCL0  0.67 (0.18)  0.69 (0.17)  0.74 (0.17)  0.84 (0.15)  0.80 (0.16)   \n",
       "    SVCR0  0.64 (0.18)  0.69 (0.21)  0.75 (0.23)  0.96 (0.21)  0.89 (0.20)   \n",
       "Pro CART0  0.69 (0.19)  0.79 (0.20)  0.78 (0.20)  0.82 (0.20)  0.74 (0.20)   \n",
       "    ENSMB  0.66 (0.21)  0.75 (0.21)  0.69 (0.20)  0.82 (0.17)  0.76 (0.20)   \n",
       "    KNN1   0.76 (0.24)  0.89 (0.25)  0.80 (0.23)  0.60 (0.29)  0.64 (0.34)   \n",
       "    LDA    0.70 (0.20)  0.75 (0.21)  0.71 (0.19)  0.80 (0.18)  0.72 (0.19)   \n",
       "    NB     0.78 (0.29)  0.84 (0.23)  0.70 (0.21)  0.78 (0.33)  0.78 (0.24)   \n",
       "    SVCL0  0.64 (0.20)  0.76 (0.21)  0.73 (0.19)  0.81 (0.17)  0.72 (0.22)   \n",
       "    SVCR0  0.63 (0.22)  0.73 (0.21)  0.71 (0.24)  0.93 (0.23)  0.84 (0.21)   \n",
       "\n",
       "                        \n",
       "                    bc  \n",
       "tox cl                  \n",
       "Hyp CART0  0.84 (0.13)  \n",
       "    ENSMB  0.88 (0.11)  \n",
       "    KNN1   0.78 (0.25)  \n",
       "    LDA    0.84 (0.11)  \n",
       "    NB     0.83 (0.21)  \n",
       "    SVCL0  0.83 (0.13)  \n",
       "    SVCR0  0.94 (0.21)  \n",
       "Inj CART0  0.79 (0.18)  \n",
       "    ENSMB  0.82 (0.16)  \n",
       "    KNN1   0.69 (0.26)  \n",
       "    LDA    0.80 (0.15)  \n",
       "    NB     0.68 (0.32)  \n",
       "    SVCL0  0.80 (0.16)  \n",
       "    SVCR0  0.91 (0.21)  \n",
       "Pro CART0  0.80 (0.18)  \n",
       "    ENSMB  0.82 (0.17)  \n",
       "    KNN1   0.67 (0.30)  \n",
       "    LDA    0.78 (0.19)  \n",
       "    NB     0.84 (0.31)  \n",
       "    SVCL0  0.80 (0.19)  \n",
       "    SVCR0  0.88 (0.24)  "
      ]
     },
     "execution_count": 22,
     "metadata": {},
     "output_type": "execute_result"
    }
   ],
   "source": [
    "Table5 = buildMSTable2(P21_mn,P21_sd)\n",
    "Table5\n"
   ]
  },
  {
   "cell_type": "code",
   "execution_count": null,
   "metadata": {
    "collapsed": true,
    "nbpresent": {
     "id": "4deb6253-cded-4445-bc7d-055be374f296"
    }
   },
   "outputs": [],
   "source": []
  }
 ],
 "metadata": {
  "anaconda-cloud": {
   "attach-environment": true,
   "environment": "Root",
   "summary": "Predicting Hepatotoxicity Using ToxCast in Vitro Bioactivity and Chemical Structure (http://pubs.acs.org/doi/abs/10.1021/tx500501h)",
   "url": "https://anaconda.org/ishah/livtox-crt-ms-2016b"
  },
  "kernelspec": {
   "display_name": "Python [Root]",
   "language": "python",
   "name": "Python [Root]"
  },
  "nbpresent": {
   "slides": {
    "0851ba87-be4e-4d39-b852-2ef65f179549": {
     "id": "0851ba87-be4e-4d39-b852-2ef65f179549",
     "prev": "3b6d2989-f3db-4cb2-a97b-9cf1fb660c88",
     "regions": {
      "daafdf77-1541-4294-8e67-74483e2efa28": {
       "attrs": {
        "height": 0.8,
        "width": 0.8,
        "x": 0.1,
        "y": 0.1
       },
       "content": {
        "cell": "230253f3-1933-4102-8eb0-8685ced52751",
        "part": "whole"
       },
       "id": "daafdf77-1541-4294-8e67-74483e2efa28"
      }
     }
    },
    "10ee4b29-5d62-4e44-9fb3-2a5d58243809": {
     "id": "10ee4b29-5d62-4e44-9fb3-2a5d58243809",
     "prev": "261a222f-143b-41ff-bed7-9494a12d2fcb",
     "regions": {
      "844866a2-af76-40c2-8132-646a97f2a50c": {
       "attrs": {
        "height": 0.8,
        "width": 0.8,
        "x": 0.1,
        "y": 0.1
       },
       "content": {
        "cell": "4deb6253-cded-4445-bc7d-055be374f296",
        "part": "whole"
       },
       "id": "844866a2-af76-40c2-8132-646a97f2a50c"
      }
     }
    },
    "185aa1c4-6d3d-480d-9c73-f2ad0efa2075": {
     "id": "185aa1c4-6d3d-480d-9c73-f2ad0efa2075",
     "prev": "42f9ce5f-759d-4662-b6d0-0403faa1e10b",
     "regions": {
      "64864fc7-1821-48e7-8e36-319f72438ae2": {
       "attrs": {
        "height": 0.8,
        "width": 0.8,
        "x": 0.1,
        "y": 0.1
       },
       "content": {
        "cell": "c2c9f09c-bc5c-48cc-8c80-6c23850ae762",
        "part": "whole"
       },
       "id": "64864fc7-1821-48e7-8e36-319f72438ae2"
      }
     }
    },
    "261a222f-143b-41ff-bed7-9494a12d2fcb": {
     "id": "261a222f-143b-41ff-bed7-9494a12d2fcb",
     "prev": "50c0def7-e754-4199-9cb2-f657c3ebe577",
     "regions": {
      "5607ba80-16db-40cb-b7dc-0c7d6041f2fd": {
       "attrs": {
        "height": 0.8,
        "width": 0.8,
        "x": 0.1,
        "y": 0.1
       },
       "content": {
        "cell": "137b34cd-f744-4d80-82c1-6d613dca9ff2",
        "part": "whole"
       },
       "id": "5607ba80-16db-40cb-b7dc-0c7d6041f2fd"
      }
     }
    },
    "3b6d2989-f3db-4cb2-a97b-9cf1fb660c88": {
     "id": "3b6d2989-f3db-4cb2-a97b-9cf1fb660c88",
     "prev": "b15ec4dc-81f2-413b-9f81-c4a14aa13d1f",
     "regions": {
      "16a376cb-33be-4e97-b8d8-fb45a041f3a2": {
       "attrs": {
        "height": 0.8,
        "width": 0.8,
        "x": 0.1,
        "y": 0.1
       },
       "content": {
        "cell": "7860a1b9-3c8e-4ff4-8601-4c92e6216ae6",
        "part": "whole"
       },
       "id": "16a376cb-33be-4e97-b8d8-fb45a041f3a2"
      }
     }
    },
    "42f9ce5f-759d-4662-b6d0-0403faa1e10b": {
     "id": "42f9ce5f-759d-4662-b6d0-0403faa1e10b",
     "prev": "dc8fd89d-108f-40b4-8bf1-8d1953d1e5d7",
     "regions": {
      "1a43c2be-280e-44a3-b7b7-e4e121757736": {
       "attrs": {
        "height": 0.8,
        "width": 0.8,
        "x": 0.1,
        "y": 0.1
       },
       "content": {
        "cell": "e7d73ac5-7553-4ccf-ade0-3475ed74b09b",
        "part": "whole"
       },
       "id": "1a43c2be-280e-44a3-b7b7-e4e121757736"
      }
     }
    },
    "4546d592-456b-4832-af58-331501e0c9fb": {
     "id": "4546d592-456b-4832-af58-331501e0c9fb",
     "prev": "0851ba87-be4e-4d39-b852-2ef65f179549",
     "regions": {
      "52c1cf3c-67cb-4b91-9736-793a7d92fc38": {
       "attrs": {
        "height": 0.8,
        "width": 0.8,
        "x": 0.1,
        "y": 0.1
       },
       "content": {
        "cell": "01a3df9e-4bad-4fe3-8ee4-87ae05022ea8",
        "part": "whole"
       },
       "id": "52c1cf3c-67cb-4b91-9736-793a7d92fc38"
      }
     }
    },
    "4e43870d-690f-4a72-8fd7-014ee49685b8": {
     "id": "4e43870d-690f-4a72-8fd7-014ee49685b8",
     "prev": "8cd55e45-92a6-4823-9c9a-709307da8f37",
     "regions": {
      "c647b164-86db-4a4c-8118-9ee33924f1a5": {
       "attrs": {
        "height": 0.8,
        "width": 0.8,
        "x": 0.1,
        "y": 0.1
       },
       "content": {
        "cell": "0d80eada-ddc9-4fc8-8ec9-06d3c7097747",
        "part": "whole"
       },
       "id": "c647b164-86db-4a4c-8118-9ee33924f1a5"
      }
     }
    },
    "50c0def7-e754-4199-9cb2-f657c3ebe577": {
     "id": "50c0def7-e754-4199-9cb2-f657c3ebe577",
     "prev": "4546d592-456b-4832-af58-331501e0c9fb",
     "regions": {
      "cff59880-392a-499e-8781-0bf39764c04f": {
       "attrs": {
        "height": 0.8,
        "width": 0.8,
        "x": 0.1,
        "y": 0.1
       },
       "content": {
        "cell": "df415a4d-fc28-4287-8933-78659da6034d",
        "part": "whole"
       },
       "id": "cff59880-392a-499e-8781-0bf39764c04f"
      }
     }
    },
    "8cd55e45-92a6-4823-9c9a-709307da8f37": {
     "id": "8cd55e45-92a6-4823-9c9a-709307da8f37",
     "prev": null,
     "regions": {
      "e357d452-2e53-4218-8fb0-45f600b87c90": {
       "attrs": {
        "height": 0.8,
        "width": 0.8,
        "x": 0.1,
        "y": 0.1
       },
       "content": {
        "cell": "30520442-a328-4a6e-bcb2-bbfbb63400a7",
        "part": "whole"
       },
       "id": "e357d452-2e53-4218-8fb0-45f600b87c90"
      }
     }
    },
    "b15ec4dc-81f2-413b-9f81-c4a14aa13d1f": {
     "id": "b15ec4dc-81f2-413b-9f81-c4a14aa13d1f",
     "prev": "e964e3c4-0b69-4954-b8c6-754f89cf02e1",
     "regions": {
      "4f8f7abb-ba75-47af-93a9-48c97f4795cf": {
       "attrs": {
        "height": 0.8,
        "width": 0.8,
        "x": 0.1,
        "y": 0.1
       },
       "content": {
        "cell": "4cdb387c-3878-42ae-b9d8-fe70ec2c5465",
        "part": "whole"
       },
       "id": "4f8f7abb-ba75-47af-93a9-48c97f4795cf"
      }
     }
    },
    "dc8fd89d-108f-40b4-8bf1-8d1953d1e5d7": {
     "id": "dc8fd89d-108f-40b4-8bf1-8d1953d1e5d7",
     "prev": "4e43870d-690f-4a72-8fd7-014ee49685b8",
     "regions": {
      "3f1e7060-1d05-42e5-9d42-a88017a3cb9d": {
       "attrs": {
        "height": 0.8,
        "width": 0.8,
        "x": 0.1,
        "y": 0.1
       },
       "content": {
        "cell": "c31d0838-d486-4a38-a597-b0bb20db233d",
        "part": "whole"
       },
       "id": "3f1e7060-1d05-42e5-9d42-a88017a3cb9d"
      }
     }
    },
    "dd024514-83e4-48f3-a768-085f2271399c": {
     "id": "dd024514-83e4-48f3-a768-085f2271399c",
     "prev": "185aa1c4-6d3d-480d-9c73-f2ad0efa2075",
     "regions": {
      "10263571-1cfb-4f5e-8374-7350e18311d1": {
       "attrs": {
        "height": 0.8,
        "width": 0.8,
        "x": 0.1,
        "y": 0.1
       },
       "content": {
        "cell": "fce968bc-826c-4552-ae1a-18aaf078d1a5",
        "part": "whole"
       },
       "id": "10263571-1cfb-4f5e-8374-7350e18311d1"
      }
     }
    },
    "e964e3c4-0b69-4954-b8c6-754f89cf02e1": {
     "id": "e964e3c4-0b69-4954-b8c6-754f89cf02e1",
     "prev": "e9f99b5d-35d5-4aca-bdea-33d2248658dd",
     "regions": {
      "86534ec5-29a8-407e-a8c9-719ad975a1e7": {
       "attrs": {
        "height": 0.8,
        "width": 0.8,
        "x": 0.1,
        "y": 0.1
       },
       "content": {
        "cell": "1ebf9d6a-b52a-4b2f-949e-f38b9f5efeed",
        "part": "whole"
       },
       "id": "86534ec5-29a8-407e-a8c9-719ad975a1e7"
      }
     }
    },
    "e9f99b5d-35d5-4aca-bdea-33d2248658dd": {
     "id": "e9f99b5d-35d5-4aca-bdea-33d2248658dd",
     "prev": "dd024514-83e4-48f3-a768-085f2271399c",
     "regions": {
      "ff1daa2d-7ce8-47d4-acc2-1bbbb9df5648": {
       "attrs": {
        "height": 0.8,
        "width": 0.8,
        "x": 0.1,
        "y": 0.1
       },
       "content": {
        "cell": "e0832f6d-7e94-4e2d-8519-e223c3505326",
        "part": "whole"
       },
       "id": "ff1daa2d-7ce8-47d4-acc2-1bbbb9df5648"
      }
     }
    }
   },
   "themes": {}
  }
 },
 "nbformat": 4,
 "nbformat_minor": 0
}
