{
  "nbformat": 4,
  "nbformat_minor": 0,
  "metadata": {
    "anaconda-cloud": {
      "attach-environment": true,
      "environment": "Root",
      "summary": "Predicting Hepatotoxicity Using ToxCast in Vitro Bioactivity and Chemical Structure (http://pubs.acs.org/doi/abs/10.1021/tx500501h)",
      "url": "https://anaconda.org/ishah/livtox-crt-ms-2016b"
    },
    "kernelspec": {
      "display_name": "Python [Root]",
      "language": "python",
      "name": "Python [Root]"
    },
    "language_info": {
      "codemirror_mode": {
        "name": "ipython",
        "version": 2
      },
      "file_extension": ".py",
      "mimetype": "text/x-python",
      "name": "python",
      "nbconvert_exporter": "python",
      "pygments_lexer": "ipython2",
      "version": "2.7.12"
    },
    "nbpresent": {
      "slides": {
        "0851ba87-be4e-4d39-b852-2ef65f179549": {
          "id": "0851ba87-be4e-4d39-b852-2ef65f179549",
          "prev": "3b6d2989-f3db-4cb2-a97b-9cf1fb660c88",
          "regions": {
            "daafdf77-1541-4294-8e67-74483e2efa28": {
              "attrs": {
                "height": 0.8,
                "width": 0.8,
                "x": 0.1,
                "y": 0.1
              },
              "content": {
                "cell": "230253f3-1933-4102-8eb0-8685ced52751",
                "part": "whole"
              },
              "id": "daafdf77-1541-4294-8e67-74483e2efa28"
            }
          }
        },
        "10ee4b29-5d62-4e44-9fb3-2a5d58243809": {
          "id": "10ee4b29-5d62-4e44-9fb3-2a5d58243809",
          "prev": "261a222f-143b-41ff-bed7-9494a12d2fcb",
          "regions": {
            "844866a2-af76-40c2-8132-646a97f2a50c": {
              "attrs": {
                "height": 0.8,
                "width": 0.8,
                "x": 0.1,
                "y": 0.1
              },
              "content": {
                "cell": "4deb6253-cded-4445-bc7d-055be374f296",
                "part": "whole"
              },
              "id": "844866a2-af76-40c2-8132-646a97f2a50c"
            }
          }
        },
        "185aa1c4-6d3d-480d-9c73-f2ad0efa2075": {
          "id": "185aa1c4-6d3d-480d-9c73-f2ad0efa2075",
          "prev": "42f9ce5f-759d-4662-b6d0-0403faa1e10b",
          "regions": {
            "64864fc7-1821-48e7-8e36-319f72438ae2": {
              "attrs": {
                "height": 0.8,
                "width": 0.8,
                "x": 0.1,
                "y": 0.1
              },
              "content": {
                "cell": "c2c9f09c-bc5c-48cc-8c80-6c23850ae762",
                "part": "whole"
              },
              "id": "64864fc7-1821-48e7-8e36-319f72438ae2"
            }
          }
        },
        "261a222f-143b-41ff-bed7-9494a12d2fcb": {
          "id": "261a222f-143b-41ff-bed7-9494a12d2fcb",
          "prev": "50c0def7-e754-4199-9cb2-f657c3ebe577",
          "regions": {
            "5607ba80-16db-40cb-b7dc-0c7d6041f2fd": {
              "attrs": {
                "height": 0.8,
                "width": 0.8,
                "x": 0.1,
                "y": 0.1
              },
              "content": {
                "cell": "137b34cd-f744-4d80-82c1-6d613dca9ff2",
                "part": "whole"
              },
              "id": "5607ba80-16db-40cb-b7dc-0c7d6041f2fd"
            }
          }
        },
        "3b6d2989-f3db-4cb2-a97b-9cf1fb660c88": {
          "id": "3b6d2989-f3db-4cb2-a97b-9cf1fb660c88",
          "prev": "b15ec4dc-81f2-413b-9f81-c4a14aa13d1f",
          "regions": {
            "16a376cb-33be-4e97-b8d8-fb45a041f3a2": {
              "attrs": {
                "height": 0.8,
                "width": 0.8,
                "x": 0.1,
                "y": 0.1
              },
              "content": {
                "cell": "7860a1b9-3c8e-4ff4-8601-4c92e6216ae6",
                "part": "whole"
              },
              "id": "16a376cb-33be-4e97-b8d8-fb45a041f3a2"
            }
          }
        },
        "42f9ce5f-759d-4662-b6d0-0403faa1e10b": {
          "id": "42f9ce5f-759d-4662-b6d0-0403faa1e10b",
          "prev": "dc8fd89d-108f-40b4-8bf1-8d1953d1e5d7",
          "regions": {
            "1a43c2be-280e-44a3-b7b7-e4e121757736": {
              "attrs": {
                "height": 0.8,
                "width": 0.8,
                "x": 0.1,
                "y": 0.1
              },
              "content": {
                "cell": "e7d73ac5-7553-4ccf-ade0-3475ed74b09b",
                "part": "whole"
              },
              "id": "1a43c2be-280e-44a3-b7b7-e4e121757736"
            }
          }
        },
        "4546d592-456b-4832-af58-331501e0c9fb": {
          "id": "4546d592-456b-4832-af58-331501e0c9fb",
          "prev": "0851ba87-be4e-4d39-b852-2ef65f179549",
          "regions": {
            "52c1cf3c-67cb-4b91-9736-793a7d92fc38": {
              "attrs": {
                "height": 0.8,
                "width": 0.8,
                "x": 0.1,
                "y": 0.1
              },
              "content": {
                "cell": "01a3df9e-4bad-4fe3-8ee4-87ae05022ea8",
                "part": "whole"
              },
              "id": "52c1cf3c-67cb-4b91-9736-793a7d92fc38"
            }
          }
        },
        "4e43870d-690f-4a72-8fd7-014ee49685b8": {
          "id": "4e43870d-690f-4a72-8fd7-014ee49685b8",
          "prev": "8cd55e45-92a6-4823-9c9a-709307da8f37",
          "regions": {
            "c647b164-86db-4a4c-8118-9ee33924f1a5": {
              "attrs": {
                "height": 0.8,
                "width": 0.8,
                "x": 0.1,
                "y": 0.1
              },
              "content": {
                "cell": "0d80eada-ddc9-4fc8-8ec9-06d3c7097747",
                "part": "whole"
              },
              "id": "c647b164-86db-4a4c-8118-9ee33924f1a5"
            }
          }
        },
        "50c0def7-e754-4199-9cb2-f657c3ebe577": {
          "id": "50c0def7-e754-4199-9cb2-f657c3ebe577",
          "prev": "4546d592-456b-4832-af58-331501e0c9fb",
          "regions": {
            "cff59880-392a-499e-8781-0bf39764c04f": {
              "attrs": {
                "height": 0.8,
                "width": 0.8,
                "x": 0.1,
                "y": 0.1
              },
              "content": {
                "cell": "df415a4d-fc28-4287-8933-78659da6034d",
                "part": "whole"
              },
              "id": "cff59880-392a-499e-8781-0bf39764c04f"
            }
          }
        },
        "8cd55e45-92a6-4823-9c9a-709307da8f37": {
          "id": "8cd55e45-92a6-4823-9c9a-709307da8f37",
          "prev": null,
          "regions": {
            "e357d452-2e53-4218-8fb0-45f600b87c90": {
              "attrs": {
                "height": 0.8,
                "width": 0.8,
                "x": 0.1,
                "y": 0.1
              },
              "content": {
                "cell": "30520442-a328-4a6e-bcb2-bbfbb63400a7",
                "part": "whole"
              },
              "id": "e357d452-2e53-4218-8fb0-45f600b87c90"
            }
          }
        },
        "b15ec4dc-81f2-413b-9f81-c4a14aa13d1f": {
          "id": "b15ec4dc-81f2-413b-9f81-c4a14aa13d1f",
          "prev": "e964e3c4-0b69-4954-b8c6-754f89cf02e1",
          "regions": {
            "4f8f7abb-ba75-47af-93a9-48c97f4795cf": {
              "attrs": {
                "height": 0.8,
                "width": 0.8,
                "x": 0.1,
                "y": 0.1
              },
              "content": {
                "cell": "4cdb387c-3878-42ae-b9d8-fe70ec2c5465",
                "part": "whole"
              },
              "id": "4f8f7abb-ba75-47af-93a9-48c97f4795cf"
            }
          }
        },
        "dc8fd89d-108f-40b4-8bf1-8d1953d1e5d7": {
          "id": "dc8fd89d-108f-40b4-8bf1-8d1953d1e5d7",
          "prev": "4e43870d-690f-4a72-8fd7-014ee49685b8",
          "regions": {
            "3f1e7060-1d05-42e5-9d42-a88017a3cb9d": {
              "attrs": {
                "height": 0.8,
                "width": 0.8,
                "x": 0.1,
                "y": 0.1
              },
              "content": {
                "cell": "c31d0838-d486-4a38-a597-b0bb20db233d",
                "part": "whole"
              },
              "id": "3f1e7060-1d05-42e5-9d42-a88017a3cb9d"
            }
          }
        },
        "dd024514-83e4-48f3-a768-085f2271399c": {
          "id": "dd024514-83e4-48f3-a768-085f2271399c",
          "prev": "185aa1c4-6d3d-480d-9c73-f2ad0efa2075",
          "regions": {
            "10263571-1cfb-4f5e-8374-7350e18311d1": {
              "attrs": {
                "height": 0.8,
                "width": 0.8,
                "x": 0.1,
                "y": 0.1
              },
              "content": {
                "cell": "fce968bc-826c-4552-ae1a-18aaf078d1a5",
                "part": "whole"
              },
              "id": "10263571-1cfb-4f5e-8374-7350e18311d1"
            }
          }
        },
        "e964e3c4-0b69-4954-b8c6-754f89cf02e1": {
          "id": "e964e3c4-0b69-4954-b8c6-754f89cf02e1",
          "prev": "e9f99b5d-35d5-4aca-bdea-33d2248658dd",
          "regions": {
            "86534ec5-29a8-407e-a8c9-719ad975a1e7": {
              "attrs": {
                "height": 0.8,
                "width": 0.8,
                "x": 0.1,
                "y": 0.1
              },
              "content": {
                "cell": "1ebf9d6a-b52a-4b2f-949e-f38b9f5efeed",
                "part": "whole"
              },
              "id": "86534ec5-29a8-407e-a8c9-719ad975a1e7"
            }
          }
        },
        "e9f99b5d-35d5-4aca-bdea-33d2248658dd": {
          "id": "e9f99b5d-35d5-4aca-bdea-33d2248658dd",
          "prev": "dd024514-83e4-48f3-a768-085f2271399c",
          "regions": {
            "ff1daa2d-7ce8-47d4-acc2-1bbbb9df5648": {
              "attrs": {
                "height": 0.8,
                "width": 0.8,
                "x": 0.1,
                "y": 0.1
              },
              "content": {
                "cell": "e0832f6d-7e94-4e2d-8519-e223c3505326",
                "part": "whole"
              },
              "id": "ff1daa2d-7ce8-47d4-acc2-1bbbb9df5648"
            }
          }
        }
      },
      "themes": {}
    },
    "colab": {
      "name": "LivTox CRT 2020.ipynb",
      "provenance": [],
      "collapsed_sections": [],
      "include_colab_link": true
    }
  },
  "cells": [
    {
      "cell_type": "markdown",
      "metadata": {
        "id": "view-in-github",
        "colab_type": "text"
      },
      "source": [
        "<a href=\"https://colab.research.google.com/github/i-shah/livertox-crt-2015/blob/master/LivTox_CRT_2020.ipynb\" target=\"_parent\"><img src=\"https://colab.research.google.com/assets/colab-badge.svg\" alt=\"Open In Colab\"/></a>"
      ]
    },
    {
      "cell_type": "markdown",
      "metadata": {
        "nbpresent": {
          "id": "30520442-a328-4a6e-bcb2-bbfbb63400a7"
        },
        "id": "P7rd6MmR9eQc",
        "colab_type": "text"
      },
      "source": [
        "# Predicting Hepatotoxicity Using ToxCast in Vitro Bioactivity and Chemical Structure\n",
        "\n",
        "Attempting this analysis in Google CoLab"
      ]
    },
    {
      "cell_type": "markdown",
      "metadata": {
        "nbpresent": {
          "id": "c31d0838-d486-4a38-a597-b0bb20db233d"
        },
        "id": "lSOaeEKX9eQf",
        "colab_type": "text"
      },
      "source": [
        "http://pubs.acs.org/doi/abs/10.1021/tx500501h"
      ]
    },
    {
      "cell_type": "markdown",
      "metadata": {
        "id": "7zOuVOqo9eQg",
        "colab_type": "text"
      },
      "source": [
        "# Reproducing the results shown in Table 2\n",
        "\n",
        "\n",
        "The following notebook provides step-by-step instructions for reproducing the results shown in Table 2 of [J. Liu, K. Mansouri, R. S. Judson, M. T. Martin, H. Hong, M. Chen, X. Xu, R. S. Thomas, and I. Shah, “Predicting hepatotoxicity using ToxCast in vitro bioactivity and chemical structure,” Chem. Res. Toxicol., vol. 28, no. 4, pp. 738–751, Apr. 2015](http://pubs.acs.org/doi/abs/10.1021/tx500501h). \n",
        "\n"
      ]
    },
    {
      "cell_type": "markdown",
      "metadata": {
        "id": "ouHfNeY79eQj",
        "colab_type": "text"
      },
      "source": [
        "## Print out some useful information about your system"
      ]
    },
    {
      "cell_type": "code",
      "metadata": {
        "id": "741VKmYd9eQk",
        "colab_type": "code",
        "outputId": "cbfb3523-fb33-40da-ade6-facf5294f89d",
        "colab": {
          "base_uri": "https://localhost:8080/",
          "height": 141
        }
      },
      "source": [
        "\n",
        "import platform,sys\n",
        "\n",
        "print(\"\"\"Python version: %s\n",
        "dist: %s\n",
        "system: %s\n",
        "machine: %s\n",
        "platform: %s\n",
        "version: %s\n",
        "\"\"\" % (\n",
        "    sys.version.split('\\n'),\n",
        "    str(platform.dist()),\n",
        "    platform.system(),\n",
        "    platform.machine(),\n",
        "    platform.platform(),\n",
        "    platform.version()\n",
        "))"
      ],
      "execution_count": 0,
      "outputs": [
        {
          "output_type": "stream",
          "text": [
            "Python version: ['3.6.9 (default, Nov  7 2019, 10:44:02) ', '[GCC 8.3.0]']\n",
            "dist: ('Ubuntu', '18.04', 'bionic')\n",
            "system: Linux\n",
            "machine: x86_64\n",
            "platform: Linux-4.14.137+-x86_64-with-Ubuntu-18.04-bionic\n",
            "version: #1 SMP Thu Aug 8 02:47:02 PDT 2019\n",
            "\n"
          ],
          "name": "stdout"
        }
      ]
    },
    {
      "cell_type": "markdown",
      "metadata": {
        "id": "HmBSF3a49eQr",
        "colab_type": "text"
      },
      "source": [
        "## Load all the required packages"
      ]
    },
    {
      "cell_type": "code",
      "metadata": {
        "nbpresent": {
          "id": "c2c9f09c-bc5c-48cc-8c80-6c23850ae762"
        },
        "id": "EZFDwhKS9eQs",
        "colab_type": "code",
        "colab": {}
      },
      "source": [
        "import numpy as np\n",
        "import pylab as pl\n",
        "import pandas as pd\n",
        "\n",
        "from sklearn.model_selection import cross_validate\n",
        "from sklearn.neighbors import KNeighborsClassifier\n",
        "from sklearn.svm import SVC\n",
        "from sklearn.tree import DecisionTreeClassifier\n",
        "from sklearn.ensemble import RandomForestClassifier\n",
        "from sklearn.naive_bayes import GaussianNB\n",
        "from sklearn.discriminant_analysis import LinearDiscriminantAnalysis as LDA\n",
        "from sklearn.discriminant_analysis import QuadraticDiscriminantAnalysis as QDA\n",
        "from sklearn.metrics import precision_score,recall_score,accuracy_score\n",
        "from sklearn.feature_selection import SelectPercentile, f_classif\n",
        "from sklearn.model_selection import StratifiedKFold,train_test_split\n",
        "\n",
        "from time import time\n",
        "import warnings\n",
        "warnings.simplefilter('ignore')\n",
        "import os\n",
        "import subprocess\n",
        "import warnings\n",
        "\n",
        "import pandas as pd\n",
        "import re\n",
        "import bz2\n",
        "import pdb"
      ],
      "execution_count": 0,
      "outputs": []
    },
    {
      "cell_type": "markdown",
      "metadata": {
        "id": "DxamulIW9eQw",
        "colab_type": "text"
      },
      "source": [
        "## Set up anyvariables and functions used by the analysis"
      ]
    },
    {
      "cell_type": "code",
      "metadata": {
        "nbpresent": {
          "id": "e0832f6d-7e94-4e2d-8519-e223c3505326"
        },
        "id": "nc_Sfnma9eQx",
        "colab_type": "code",
        "colab": {}
      },
      "source": [
        "# Store all classifiers in a dictionary\n",
        "Classifiers1 = dict(LDA = LDA(),\n",
        "                    NB= GaussianNB(), \n",
        "                    KNN1=KNeighborsClassifier(algorithm='auto',n_neighbors=3), \n",
        "                    SVCL0=SVC(kernel='linear'), \n",
        "                    SVCR0=SVC(C=1.0, cache_size=400, class_weight=None, coef0=0.0, degree=3,\n",
        "                              gamma=10.0, kernel='rbf', max_iter=-1, probability=False, shrinking=True,\n",
        "                              tol=0.0001, verbose=False),\n",
        "                    CART0=DecisionTreeClassifier(max_depth=10))\n",
        "\n",
        "DataSet = {}\n",
        "Markers = {}\n",
        "\n",
        "\n",
        "def selFeatsFilter(A,b,top=5):\n",
        "    selector = SelectPercentile(f_classif, percentile=10)\n",
        "    selector.fit(A, b)\n",
        "    scores = -np.log10(selector.pvalues_)\n",
        "    scores[np.isnan(scores)]=0\n",
        "    np.argsort(scores)\n",
        "    if top>len(scores): top=len(scores)\n",
        "    return np.argsort(scores)[-top:]\n",
        "\n",
        "def myScore(Y_test,Y_pred):\n",
        "    X = dict(TP=np.sum(np.logical_and(Y_pred==1, Y_test==1)),\n",
        "             TN=np.sum(np.logical_and(Y_pred==0, Y_test==0)),\n",
        "             FP=np.sum(np.logical_and(Y_pred==1, Y_test==0)),\n",
        "             FN=np.sum(np.logical_and(Y_pred==0, Y_test==1)))\n",
        "    for i,v in X.items(): v *= 1.0\n",
        "    TP,TN,FP,FN = X['TP'],X['TN'],X['FP'],X['FN']\n",
        "    return dict(cm=X,acc=1.0*(TP+TN)/(TP+TN+FP+FN),sens=1.0*TP/(TP+FN),spec=1.0*TN/(TN+FP))\n",
        "\n",
        "def countPosNeg(X):\n",
        "    n0=np.sum(X==0)\n",
        "    n1=np.sum(X==1)\n",
        "    if n1>n0: \n",
        "        return 1\n",
        "    else:\n",
        "        return 0\n",
        "\n",
        "def trainAndTestClassifiers(X,Y,I_test,I_train,n_desc,dbg=False,\n",
        "                            TOPD=Markers,CLSF=Classifiers1):\n",
        "    X_test = X.ix[I_test,:]\n",
        "    X_train = X.ix[I_train,:]\n",
        "    Y_test = Y.ix[I_test]\n",
        "    Y_train = Y.ix[I_train]\n",
        "    F_best = selFeatsFilter(X_train,Y_train,n_desc)\n",
        "    Perf_i   =[]\n",
        "    Vote   =pd.DataFrame(np.zeros((len(I_test),len(CLSF))),columns=CLSF.keys())\n",
        "    \n",
        "    if dbg: print(\"Train\",X_train.shape,\" Test\",X_test.shape,\" n_desc\",len(F_best))\n",
        "    for nm,clf in CLSF.items():\n",
        "        if dbg: print(nm)\n",
        "        try:\n",
        "            if dbg: print(\" Training\")\n",
        "            clf.fit(X_train.ix[:,F_best], Y_train)\n",
        "            if dbg: print(\" Testing\")\n",
        "            Y_pred = clf.predict(X_test.ix[:,F_best])\n",
        "            Vote[nm]=Y_pred\n",
        "            if dbg: print(\" Calc score\")\n",
        "            P_i = myScore(Y_test,Y_pred)\n",
        "            if dbg: print(\" Make results\")\n",
        "            P = dict(cl=nm,sens=P_i['sens'],spec=P_i['spec'],\n",
        "                     bacc=0.5*(P_i['sens']+P_i['spec']),\n",
        "                     prec=precision_score(Y_test,Y_pred),\n",
        "                     n_pos=np.sum(Y_train==1),n_neg=np.sum(Y_train==0),\n",
        "                     n_desc=n_desc,\n",
        "                     acc=accuracy_score(Y_test,Y_pred))\n",
        "                \n",
        "            Perf_i.append(P)\n",
        "                             \n",
        "        except:\n",
        "            print(\"   %s Failed!\" % nm)\n",
        "\n",
        "    # Now get the majority vote for the class\n",
        "    if dbg: print(\" Ensemble\")\n",
        "    #pdb.set_trace()\n",
        "    Y_pred=Vote.apply(countPosNeg,axis=1)\n",
        "    P_i = myScore(Y_test.array,Y_pred)\n",
        "\n",
        "    P = dict(cl='ENSMB',sens=P_i['sens'],spec=P_i['spec'],\n",
        "             bacc=0.5*(P_i['sens']+P_i['spec']),\n",
        "             prec=precision_score(Y_test,Y_pred),\n",
        "             n_pos=np.sum(Y_train==1),n_neg=np.sum(Y_train==0),\n",
        "             n_desc=n_desc,\n",
        "             acc=accuracy_score(Y_test,Y_pred))\n",
        "    Perf_i.append(P)\n",
        "\n",
        "    if dbg: print(\" Done\")\n",
        "\n",
        "    return pd.DataFrame(Perf_i)\n",
        "\n",
        "\n",
        "def resampleBalCVLearn(n_pos,n_neg,trial=1,\n",
        "                       n_desc_min=5,n_desc_max=70,n_desc_step=5,\n",
        "                       K=10,DS=DataSet,TOPD=Markers,\n",
        "                       CLSF=Classifiers1,dbg=False):\n",
        "    \"\"\"\n",
        "    Creates a balanced undersampled subset of the data for K-fold CV testing n_reps times \n",
        "    Requires: DS (which is pushed by dview)\n",
        "\n",
        "    \"\"\"\n",
        "    Data = DS['Data']\n",
        "    Y_pos = Data[DS['pos_cls']]\n",
        "    X_pos = Data[DS['Desc']].ix[Y_pos==1,:]\n",
        "    N_pos = np.sum(Y_pos[Y_pos==1])\n",
        "    \n",
        "    Y_neg = Data[DS['neg_cls']]\n",
        "    X_neg = Data[DS['Desc']].ix[Y_neg==1,:]\n",
        "    N_neg = np.sum(Y_neg[Y_neg==1])\n",
        "\n",
        "    I_pos = np.random.randint(0,N_pos,n_pos)\n",
        "    X_pi = X_pos.ix[I_pos,:]\n",
        "    X_pi['out']=1\n",
        "\n",
        "    I_neg = np.random.randint(0,N_neg,n_neg)\n",
        "    X_ni = X_neg.ix[I_neg,:]\n",
        "    X_ni['out']=0\n",
        "\n",
        "    X = pd.concat((X_pi,X_ni))\n",
        "    Y = X['out']\n",
        "    X = X.drop('out',axis=1)\n",
        "    \n",
        "    Perf_cv = []\n",
        "    \n",
        "    #pid=os.getpid()\n",
        "\n",
        "    SKF = StratifiedKFold(n_splits=K)\n",
        "\n",
        "    i_step = 0\n",
        "    for n_desc in range(n_desc_min,n_desc_max,n_desc_step):\n",
        "        for I_train,I_test in SKF.split(X,Y):\n",
        "            i_step += 1\n",
        "            if dbg: print('Data',X.shape)\n",
        "            P_df=trainAndTestClassifiers(X,Y,I_test,I_train,n_desc,\n",
        "                                         TOPD=Markers,CLSF=Classifiers1,dbg=dbg)\n",
        "            P_df['n_obs']=n_pos+n_neg\n",
        "            P_df['n_pos']=n_pos\n",
        "            P_df['n_neg']=n_neg\n",
        "            P_df['dtp'] = DS['dtp']\n",
        "            P_df['tox'] = DS['tox']\n",
        "            P_df['cvk'] = K\n",
        "            P_df['itrl']= \"%d-%d\" % (trial,i_step)\n",
        "            Perf_cv += P_df.T.to_dict().values()\n",
        "        \n",
        "    return Perf_cv\n",
        "\n",
        "# The rest is just to make a summary table of performance results from all the replicates\n",
        "\n",
        "C1=pd.MultiIndex.from_tuples(\n",
        "[('n_desc', 'bio'),\n",
        " ('n_desc', 'chm'),\n",
        " ('n_desc', 'bc'),\n",
        " ('bacc', 'bio'),\n",
        " ('bacc', 'chm'),\n",
        " ('bacc', 'bc'),\n",
        " ('sens', 'bio'),\n",
        " ('sens', 'chm'),\n",
        " ('sens', 'bc'),\n",
        " ('spec', 'bio'),\n",
        " ('spec', 'chm'),\n",
        " ('spec', 'bc')])\n",
        "ii_tox=0\n",
        "ii_dtp=1\n",
        "ii_cl =2\n",
        "ii_cvk=3\n",
        "ii_nds=4\n",
        "ii_nob=5\n",
        "\n",
        "\n",
        "def buildMSTable1(P_st,cols=C1):\n",
        "    X= P_st.groupby(level=['tox','dtp','cl']).max()\n",
        "    Tox=set([i[0] for i in X.index])\n",
        "    Dtp=set([i[1] for i in X.index])\n",
        "    CL =set([i[2] for i in X.index])\n",
        "    Res=[]\n",
        "    for tox in Tox:\n",
        "        for dtp in Dtp:\n",
        "            for cl in CL:\n",
        "                Bacc=X.xs((tox,dtp,cl))['bacc']\n",
        "                Y = P_st.xs((tox,dtp,cl)).reset_index()[['n_desc','bacc']]\n",
        "                Y1 = Y[(Y['bacc']==Bacc)].n_desc\n",
        "                Res.append(dict(tox=tox,dtp=dtp,cl=cl,n_desc=int(list(Y1)[0])))\n",
        "    Res_df = pd.DataFrame(Res).set_index(['tox','dtp','cl'])\n",
        "    X = pd.merge(X,Res_df,left_index=True,right_index=True)\n",
        "    #X['bacc2'] = X.apply(lambda x: \"%3.2f(%d)\"%(x[1],x[-1]),axis=1)\n",
        "\n",
        "    T1 = np.round(pd.pivot_table(X.reset_index(),index=['tox','cl'],columns=['dtp'],values=['bacc','n_desc','sens','spec']),decimals=2)\n",
        "    return T1[cols]\n",
        "\n",
        "def buildMSTable2(P_mn,P_sd,cols=C1):\n",
        "    IMB_mn = buildMSTable1(P_mn)\n",
        "    IMB_sd = buildMSTable1(P_sd)\n",
        "\n",
        "    if len(cols)>0: \n",
        "        C1 = cols \n",
        "    else:\n",
        "        C1 = IMB_mn.columns\n",
        "        \n",
        "    R1=IMB_mn.index\n",
        "    IMB_res = pd.DataFrame(columns=C1,index=R1)\n",
        "\n",
        "    for i in [x for x in C1 if x[0]=='n_desc']:\n",
        "        IMB_res[i] = IMB_mn[i]\n",
        "\n",
        "    for r in R1:\n",
        "        for c in [c for c in C1 if c[0]!='n_desc']:\n",
        "            IMB_res.ix[r,c] = \"%3.2f (%3.2f)\" % (IMB_mn.ix[r,c],IMB_sd.ix[r,c]) \n",
        "\n",
        "    return IMB_res\n",
        "\n",
        "def buildMSTable11(P_st,cols=C1):\n",
        "    X= P_st.groupby(level=['tox','dtp']).max()\n",
        "    Tox=set([i[0] for i in X.index])\n",
        "    Dtp=set([i[1] for i in X.index])\n",
        "    Res=[]\n",
        "    for tox in Tox:\n",
        "        for dtp in Dtp:\n",
        "            Bacc=X.xs((tox,dtp))['bacc']\n",
        "            Y = P_st.xs((tox,dtp)).reset_index()[['n_desc','bacc']]\n",
        "            Y1 = Y[(Y['bacc']==Bacc)].n_desc\n",
        "            #print tox,dtp,cl,Bacc,int(Y1)\n",
        "            Res.append(dict(tox=tox,dtp=dtp,n_desc=int(list(Y1)[0])))\n",
        "    Res_df = pd.DataFrame(Res).set_index(['tox','dtp'])\n",
        "    X = pd.merge(X,Res_df,left_index=True,right_index=True)\n",
        "    #X['bacc2'] = X.apply(lambda x: \"%3.2f(%d)\"%(x[1],x[-1]),axis=1)\n",
        "\n",
        "    T1 = np.round(pd.pivot_table(X.reset_index(),index=['tox'],columns=['dtp'],values=['bacc','n_desc','sens','spec']),decimals=2)\n",
        "    return T1[cols]\n",
        "\n",
        "def buildMSTable21(P_mn,P_sd,cols=C1):\n",
        "    IMB_mn = buildMSTable11(P_mn)\n",
        "    IMB_sd = buildMSTable11(P_sd)\n",
        "\n",
        "    if len(cols)>0: \n",
        "        C1 = cols \n",
        "    else:\n",
        "        C1 = IMB_mn.columns\n",
        "    \n",
        "    R1=IMB_mn.index\n",
        "    IMB_res = pd.DataFrame(columns=C1,index=R1)\n",
        "\n",
        "    for i in [x for x in C1 if x[0]=='n_desc']:\n",
        "        IMB_res[i] = IMB_mn[i]\n",
        "\n",
        "    for r in R1:\n",
        "        for c in [c for c in C1 if c[0]!='n_desc']:\n",
        "            IMB_res.ix[r,c] = \"%3.2f (%3.2f)\" % (IMB_mn.ix[r,c],IMB_sd.ix[r,c]) \n",
        "\n",
        "    return IMB_res\n",
        "\n"
      ],
      "execution_count": 0,
      "outputs": []
    },
    {
      "cell_type": "markdown",
      "metadata": {
        "id": "0iBIc2CF9eQ1",
        "colab_type": "text"
      },
      "source": [
        "## Load the data files and format the data sets"
      ]
    },
    {
      "cell_type": "code",
      "metadata": {
        "id": "xzGgjEu4_fdA",
        "colab_type": "code",
        "colab": {
          "base_uri": "https://localhost:8080/",
          "height": 87
        },
        "outputId": "e032b390-6cf6-4c67-a396-891ff9c9b529"
      },
      "source": [
        "!git clone https://github.com/i-shah/livertox-crt-2015.git /tmp"
      ],
      "execution_count": 7,
      "outputs": [
        {
          "output_type": "stream",
          "text": [
            "Cloning into '/tmp'...\n",
            "remote: Enumerating objects: 43, done.\u001b[K\n",
            "remote: Total 43 (delta 0), reused 0 (delta 0), pack-reused 43\u001b[K\n",
            "Unpacking objects: 100% (43/43), done.\n"
          ],
          "name": "stdout"
        }
      ]
    },
    {
      "cell_type": "code",
      "metadata": {
        "id": "LQLOeGjK_6Ff",
        "colab_type": "code",
        "colab": {
          "base_uri": "https://localhost:8080/",
          "height": 34
        },
        "outputId": "2c38f21d-599f-43c2-8462-9d3ff2060d02"
      },
      "source": [
        "!ls /tmp/data/"
      ],
      "execution_count": 9,
      "outputs": [
        {
          "output_type": "stream",
          "text": [
            "liv-tox-pred-1.csv.bz2\n"
          ],
          "name": "stdout"
        }
      ]
    },
    {
      "cell_type": "code",
      "metadata": {
        "nbpresent": {
          "id": "e5646150-95de-4406-8710-d21d8f006fdc"
        },
        "id": "8x3dWx149eQ2",
        "colab_type": "code",
        "colab": {}
      },
      "source": [
        "# The data file integrates chm, bio and tox data\n",
        "import bz2\n",
        "DF = pd.read_csv(\"/tmp/data/liv-tox-pred-1.csv.bz2\",compression='infer')\n",
        "DF1 = DF.set_index(['cid','CASRN','name'])"
      ],
      "execution_count": 0,
      "outputs": []
    },
    {
      "cell_type": "code",
      "metadata": {
        "nbpresent": {
          "id": "4cdb387c-3878-42ae-b9d8-fe70ec2c5465"
        },
        "id": "02rMP7j09eQ5",
        "colab_type": "code",
        "outputId": "2af23625-5717-41ce-f081-9b633140864e",
        "colab": {
          "base_uri": "https://localhost:8080/",
          "height": 34
        }
      },
      "source": [
        "#Figure out the columns for each descriptor\n",
        "#print DF1.columns\n",
        "Col_tox = ['Hypertrophy', 'Injury', 'Proliferative.lesions', 'No.liver.lesions']\n",
        "Col_bio = [i for i in DF1.columns if re.search(r'^APR|^ATG|^ACEA|^NVS|^OT|^Tox21',i,re.I)]\n",
        "Col_chm = [i for i in DF1.columns if i not in Col_tox+Col_bio]\n",
        "\n",
        "print(\"Tox\",len(Col_tox),\" Bio\",len(Col_bio),\" Chm\",len(Col_chm))\n",
        "\n",
        "# Now create the different datasets for ML\n",
        "#\n",
        "# DataSet:\n",
        "#   Desc: list of descriptors\n",
        "#   pos_cls: name of positive class\n",
        "#   neg_cls: name of negative class\n",
        "#   dtp: descriptor type bio|chm|bc\n",
        "#   Data: DataFrame containing all data\n",
        "#   title: string name for the data set\n",
        "\n",
        "ML1 = dict()\n",
        "ML1['Inj-bio']=dict(Desc=Col_bio,pos_cls='Injury',neg_cls='No.liver.lesions',dtp='bio',\n",
        "                Data=DF1,\n",
        "                title=\"Liver Injury ~ Bioactivity\")\n",
        "\n",
        "ML1['Hyp-bio']=dict(Desc=Col_bio,pos_cls='Hypertrophy',neg_cls='No.liver.lesions',dtp='bio',\n",
        "                Data=DF1,\n",
        "                title=\"Liver Hypertrophy ~ Bioactivity\")\n",
        "\n",
        "ML1['Pro-bio']=dict(Desc=Col_bio,pos_cls='Proliferative.lesions',neg_cls='No.liver.lesions',dtp='bio',\n",
        "                Data=DF1,\n",
        "                title=\"Liver Proliferative Lesions ~ Bioactivity\")\n",
        "\n",
        "ML1['Inj-chm']=dict(Desc=Col_chm,pos_cls='Injury',neg_cls='No.liver.lesions',dtp='chm',\n",
        "                Data=DF1,\n",
        "                title=\"Liver Injury ~ Chem\")\n",
        "\n",
        "ML1['Hyp-chm']=dict(Desc=Col_chm,pos_cls='Hypertrophy',neg_cls='No.liver.lesions',dtp='chm',\n",
        "                Data=DF1,\n",
        "                title=\"Liver Hypertrophy ~ Chem\")\n",
        "\n",
        "ML1['Pro-chm']=dict(Desc=Col_chm,pos_cls='Proliferative.lesions',neg_cls='No.liver.lesions',dtp='chm',\n",
        "                Data=DF1,\n",
        "                title=\"Liver Proliferative Lesions ~ Chem\")\n",
        "\n",
        "ML1['Inj-bc']=dict(Desc=Col_chm+Col_bio,pos_cls='Injury',neg_cls='No.liver.lesions',dtp='bc',\n",
        "                Data=DF1,\n",
        "                title=\"Liver Injury ~ Bio + Chem\")\n",
        "\n",
        "ML1['Hyp-bc']=dict(Desc=Col_chm+Col_bio,pos_cls='Hypertrophy',neg_cls='No.liver.lesions',dtp='bc',\n",
        "                Data=DF1,\n",
        "                title=\"Liver Hypertrophy ~ Bio + Chem\")\n",
        "\n",
        "ML1['Pro-bc']=dict(Desc=Col_chm+Col_bio,pos_cls='Proliferative.lesions',neg_cls='No.liver.lesions',dtp='bc',\n",
        "                Data=DF1,\n",
        "                title=\"Liver Proliferative Lesions ~ Bio + Chem\")\n",
        "\n",
        "for tox,V in ML1.items():\n",
        "    V['tox']=tox.split('-')[0]\n",
        "    \n"
      ],
      "execution_count": 13,
      "outputs": [
        {
          "output_type": "stream",
          "text": [
            "Tox 4  Bio 127  Chm 730\n"
          ],
          "name": "stdout"
        }
      ]
    },
    {
      "cell_type": "code",
      "metadata": {
        "nbpresent": {
          "id": "7860a1b9-3c8e-4ff4-8601-4c92e6216ae6"
        },
        "id": "wdf62GKU9eQ9",
        "colab_type": "code",
        "outputId": "a7fd9563-bdaf-4188-f1ae-bff608597292",
        "colab": {
          "base_uri": "https://localhost:8080/",
          "height": 176
        }
      },
      "source": [
        "for tox,DS in ML1.items():\n",
        "    Data = DS['Data']\n",
        "    pos  = DS['pos_cls']\n",
        "    neg  = DS['neg_cls']\n",
        "    \n",
        "    print(tox,np.sum(Data[pos]==1),np.sum(Data[neg]==1))\n"
      ],
      "execution_count": 15,
      "outputs": [
        {
          "output_type": "stream",
          "text": [
            "Inj-bio 101 463\n",
            "Hyp-bio 161 463\n",
            "Pro-bio 99 463\n",
            "Inj-chm 101 463\n",
            "Hyp-chm 161 463\n",
            "Pro-chm 99 463\n",
            "Inj-bc 101 463\n",
            "Hyp-bc 161 463\n",
            "Pro-bc 99 463\n"
          ],
          "name": "stdout"
        }
      ]
    },
    {
      "cell_type": "markdown",
      "metadata": {
        "id": "-BPpvBK49eRA",
        "colab_type": "text"
      },
      "source": [
        "## Run the machine learning analysis"
      ]
    },
    {
      "cell_type": "code",
      "metadata": {
        "nbpresent": {
          "id": "4deb6253-cded-4445-bc7d-055be374f296"
        },
        "id": "yHg6P4Vx9eRB",
        "colab_type": "code",
        "outputId": "1656db28-9d61-4ba1-d8d6-7b9a53102bb9",
        "colab": {
          "base_uri": "https://localhost:8080/",
          "height": 1000
        }
      },
      "source": [
        "import sys, time\n",
        "sys.stdout.flush()\n",
        "    \n",
        "PERF   = []\n",
        "TOPDESC={}\n",
        "i_trl = 0\n",
        "for tox in ['Hyp-chm','Hyp-bio','Hyp-bc',\n",
        "            'Inj-chm','Inj-bio','Inj-bc',\n",
        "            'Pro-chm','Pro-bio','Pro-bc',\n",
        "            ]:\n",
        "    DS = ML1[tox]\n",
        "    Markers = {}\n",
        "    Res = []\n",
        "    print(\"\\n>>\", DS['title'],len(PERF),time.strftime(\"%d/%m/%Y %H:%M\",time.localtime()))\n",
        "\n",
        "    Data = DS['Data']\n",
        "    Y_pos = Data[DS['pos_cls']]\n",
        "    X_pos = Data[DS['Desc']].ix[Y_pos==1,:]\n",
        "    N_pos = np.sum(Y_pos[Y_pos==1])\n",
        "    Y_neg = Data[DS['neg_cls']]\n",
        "    N_neg = np.sum(Y_neg[Y_neg==1])\n",
        "    print(\"  >  No. of pos: %d neg: %d\" % (N_pos,N_neg),time.strftime(\"%d/%m/%Y %H:%M\",time.localtime()))\n",
        "    sys.stdout.flush()\n",
        "    # This runs 2 undersampled datasets  -- need at least 20\n",
        "    for i in range(5):\n",
        "        i_trl+=1\n",
        "        print(\"   Trial\", i_trl)\n",
        "        Res += resampleBalCVLearn(n_pos=N_pos,n_neg=N_neg,trial=i_trl,\n",
        "                                n_desc_min=10,n_desc_max=70,n_desc_step=5,\n",
        "                                K=10,DS=DS,TOPD=Markers,CLSF=Classifiers1,dbg=False)\n",
        "\n",
        "    PERF += Res\n",
        "    TOPDESC[tox]=Markers\n",
        "\n",
        "\n",
        "print(\"> ML analysis done \",time.strftime(\"%d/%m/%Y %H:%M\",time.localtime()))\n",
        "\n",
        "PERF1_df = pd.DataFrame(PERF)\n",
        "PERF1_df.set_index(['tox','dtp','cl','itrl','cvk','n_desc','n_pos','n_neg','n_obs'],inplace=True)\n",
        "# These are variables used further below\n",
        "TOP_DESC1=TOPDESC"
      ],
      "execution_count": 54,
      "outputs": [
        {
          "output_type": "stream",
          "text": [
            "\n",
            ">> Liver Hypertrophy ~ Chem 0 13/02/2020 15:36\n",
            "  >  No. of pos: 161 neg: 463 13/02/2020 15:36\n",
            "   Trial 1\n",
            "   Trial 2\n",
            "   Trial 3\n",
            "   Trial 4\n",
            "   Trial 5\n",
            "\n",
            ">> Liver Hypertrophy ~ Bioactivity 4200 13/02/2020 15:38\n",
            "  >  No. of pos: 161 neg: 463 13/02/2020 15:38\n",
            "   Trial 6\n",
            "   Trial 7\n",
            "   Trial 8\n",
            "   Trial 9\n",
            "   Trial 10\n",
            "\n",
            ">> Liver Hypertrophy ~ Bio + Chem 8400 13/02/2020 15:40\n",
            "  >  No. of pos: 161 neg: 463 13/02/2020 15:40\n",
            "   Trial 11\n",
            "   Trial 12\n",
            "   Trial 13\n",
            "   Trial 14\n",
            "   Trial 15\n",
            "\n",
            ">> Liver Injury ~ Chem 12600 13/02/2020 15:42\n",
            "  >  No. of pos: 101 neg: 463 13/02/2020 15:42\n",
            "   Trial 16\n",
            "   Trial 17\n",
            "   Trial 18\n",
            "   Trial 19\n",
            "   Trial 20\n",
            "\n",
            ">> Liver Injury ~ Bioactivity 16800 13/02/2020 15:43\n",
            "  >  No. of pos: 101 neg: 463 13/02/2020 15:43\n",
            "   Trial 21\n",
            "   Trial 22\n",
            "   Trial 23\n",
            "   Trial 24\n",
            "   Trial 25\n",
            "\n",
            ">> Liver Injury ~ Bio + Chem 21000 13/02/2020 15:45\n",
            "  >  No. of pos: 101 neg: 463 13/02/2020 15:45\n",
            "   Trial 26\n",
            "   Trial 27\n",
            "   Trial 28\n",
            "   Trial 29\n",
            "   Trial 30\n",
            "\n",
            ">> Liver Proliferative Lesions ~ Chem 25200 13/02/2020 15:47\n",
            "  >  No. of pos: 99 neg: 463 13/02/2020 15:47\n",
            "   Trial 31\n",
            "   Trial 32\n",
            "   Trial 33\n",
            "   Trial 34\n",
            "   Trial 35\n",
            "\n",
            ">> Liver Proliferative Lesions ~ Bioactivity 29400 13/02/2020 15:49\n",
            "  >  No. of pos: 99 neg: 463 13/02/2020 15:49\n",
            "   Trial 36\n",
            "   Trial 37\n",
            "   Trial 38\n",
            "   Trial 39\n",
            "   Trial 40\n",
            "\n",
            ">> Liver Proliferative Lesions ~ Bio + Chem 33600 13/02/2020 15:51\n",
            "  >  No. of pos: 99 neg: 463 13/02/2020 15:51\n",
            "   Trial 41\n",
            "   Trial 42\n",
            "   Trial 43\n",
            "   Trial 44\n",
            "   Trial 45\n",
            "> ML analysis done  13/02/2020 15:53\n"
          ],
          "name": "stdout"
        }
      ]
    },
    {
      "cell_type": "code",
      "metadata": {
        "id": "Km5Fk6Rz9eRI",
        "colab_type": "code",
        "colab": {}
      },
      "source": [
        "PERF1_df.to_csv(\"/tmp/perf-imbalanced-rep-20.tsv\")"
      ],
      "execution_count": 0,
      "outputs": []
    },
    {
      "cell_type": "code",
      "metadata": {
        "id": "fXVP8gXo9eRN",
        "colab_type": "code",
        "colab": {}
      },
      "source": [
        "P2_mn = PERF1_df.groupby(level=['tox','dtp','cl','cvk','n_desc','n_obs']).mean()\n",
        "P2_sd = PERF1_df.groupby(level=['tox','dtp','cl','cvk','n_desc','n_obs']).std()\n"
      ],
      "execution_count": 0,
      "outputs": []
    },
    {
      "cell_type": "code",
      "metadata": {
        "id": "uhnu4d_L9eRR",
        "colab_type": "code",
        "colab": {}
      },
      "source": [
        "# FInd the rows containing the max number of examples\n",
        "X = P2_mn.reset_index()\n",
        "N_obs=X[['tox','n_obs']].groupby('tox').max().to_dict()['n_obs']\n",
        "Y = []\n",
        "for tox,n_obs in N_obs.items():\n",
        "    X1 = X[(X['tox']==tox) & (X['n_obs']==n_obs)]\n",
        "    Y += [X1.iloc[i].to_dict() for i in range(X1.shape[0])]\n",
        "P21_mn = pd.DataFrame(Y)\n",
        "P21_mn.set_index(['tox','dtp','cl','cvk','n_desc','n_obs'],inplace=True)\n",
        "P21_mn = P21_mn.groupby(level=['tox','dtp','cl','cvk','n_desc','n_obs']).mean()\n",
        "\n",
        "X = P2_sd.reset_index()\n",
        "Y = []\n",
        "for tox,n_obs in N_obs.items():\n",
        "    X1 = X[(X['tox']==tox) & (X['n_obs']==n_obs)]\n",
        "    Y += [X1.iloc[i].to_dict() for i in range(X1.shape[0])]\n",
        "P21_sd = pd.DataFrame(Y).set_index(['tox','dtp','cl','cvk','n_desc','n_obs'])\n",
        "P21_sd = P21_sd.groupby(level=['tox','dtp','cl','cvk','n_desc','n_obs']).mean()\n"
      ],
      "execution_count": 0,
      "outputs": []
    },
    {
      "cell_type": "code",
      "metadata": {
        "id": "tK6oi2np9eRU",
        "colab_type": "code",
        "outputId": "91f85036-e30b-496a-9e55-a6ef82bda043",
        "colab": {
          "base_uri": "https://localhost:8080/",
          "height": 737
        }
      },
      "source": [
        "Table5 = buildMSTable2(P21_mn,P21_sd)\n",
        "Table5\n"
      ],
      "execution_count": 58,
      "outputs": [
        {
          "output_type": "execute_result",
          "data": {
            "text/html": [
              "<div>\n",
              "<style scoped>\n",
              "    .dataframe tbody tr th:only-of-type {\n",
              "        vertical-align: middle;\n",
              "    }\n",
              "\n",
              "    .dataframe tbody tr th {\n",
              "        vertical-align: top;\n",
              "    }\n",
              "\n",
              "    .dataframe thead tr th {\n",
              "        text-align: left;\n",
              "    }\n",
              "\n",
              "    .dataframe thead tr:last-of-type th {\n",
              "        text-align: right;\n",
              "    }\n",
              "</style>\n",
              "<table border=\"1\" class=\"dataframe\">\n",
              "  <thead>\n",
              "    <tr>\n",
              "      <th></th>\n",
              "      <th></th>\n",
              "      <th colspan=\"3\" halign=\"left\">n_desc</th>\n",
              "      <th colspan=\"3\" halign=\"left\">bacc</th>\n",
              "      <th colspan=\"3\" halign=\"left\">sens</th>\n",
              "      <th colspan=\"3\" halign=\"left\">spec</th>\n",
              "    </tr>\n",
              "    <tr>\n",
              "      <th></th>\n",
              "      <th></th>\n",
              "      <th>bio</th>\n",
              "      <th>chm</th>\n",
              "      <th>bc</th>\n",
              "      <th>bio</th>\n",
              "      <th>chm</th>\n",
              "      <th>bc</th>\n",
              "      <th>bio</th>\n",
              "      <th>chm</th>\n",
              "      <th>bc</th>\n",
              "      <th>bio</th>\n",
              "      <th>chm</th>\n",
              "      <th>bc</th>\n",
              "    </tr>\n",
              "    <tr>\n",
              "      <th>tox</th>\n",
              "      <th>cl</th>\n",
              "      <th></th>\n",
              "      <th></th>\n",
              "      <th></th>\n",
              "      <th></th>\n",
              "      <th></th>\n",
              "      <th></th>\n",
              "      <th></th>\n",
              "      <th></th>\n",
              "      <th></th>\n",
              "      <th></th>\n",
              "      <th></th>\n",
              "      <th></th>\n",
              "    </tr>\n",
              "  </thead>\n",
              "  <tbody>\n",
              "    <tr>\n",
              "      <th rowspan=\"7\" valign=\"top\">Hyp</th>\n",
              "      <th>CART0</th>\n",
              "      <td>65</td>\n",
              "      <td>65</td>\n",
              "      <td>60</td>\n",
              "      <td>0.81 (0.07)</td>\n",
              "      <td>0.84 (0.10)</td>\n",
              "      <td>0.85 (0.08)</td>\n",
              "      <td>0.65 (0.13)</td>\n",
              "      <td>0.74 (0.19)</td>\n",
              "      <td>0.75 (0.15)</td>\n",
              "      <td>0.96 (0.03)</td>\n",
              "      <td>0.93 (0.05)</td>\n",
              "      <td>0.96 (0.04)</td>\n",
              "    </tr>\n",
              "    <tr>\n",
              "      <th>ENSMB</th>\n",
              "      <td>65</td>\n",
              "      <td>60</td>\n",
              "      <td>65</td>\n",
              "      <td>0.78 (0.07)</td>\n",
              "      <td>0.75 (0.08)</td>\n",
              "      <td>0.80 (0.07)</td>\n",
              "      <td>0.57 (0.14)</td>\n",
              "      <td>0.54 (0.16)</td>\n",
              "      <td>0.62 (0.13)</td>\n",
              "      <td>0.98 (0.03)</td>\n",
              "      <td>0.96 (0.05)</td>\n",
              "      <td>0.98 (0.04)</td>\n",
              "    </tr>\n",
              "    <tr>\n",
              "      <th>KNN1</th>\n",
              "      <td>15</td>\n",
              "      <td>55</td>\n",
              "      <td>35</td>\n",
              "      <td>0.74 (0.08)</td>\n",
              "      <td>0.75 (0.10)</td>\n",
              "      <td>0.78 (0.08)</td>\n",
              "      <td>0.62 (0.15)</td>\n",
              "      <td>0.60 (0.26)</td>\n",
              "      <td>0.65 (0.15)</td>\n",
              "      <td>0.92 (0.14)</td>\n",
              "      <td>0.91 (0.16)</td>\n",
              "      <td>0.92 (0.13)</td>\n",
              "    </tr>\n",
              "    <tr>\n",
              "      <th>LDA</th>\n",
              "      <td>60</td>\n",
              "      <td>60</td>\n",
              "      <td>60</td>\n",
              "      <td>0.75 (0.08)</td>\n",
              "      <td>0.71 (0.08)</td>\n",
              "      <td>0.78 (0.07)</td>\n",
              "      <td>0.55 (0.15)</td>\n",
              "      <td>0.50 (0.16)</td>\n",
              "      <td>0.60 (0.13)</td>\n",
              "      <td>0.96 (0.04)</td>\n",
              "      <td>0.91 (0.06)</td>\n",
              "      <td>0.96 (0.05)</td>\n",
              "    </tr>\n",
              "    <tr>\n",
              "      <th>NB</th>\n",
              "      <td>60</td>\n",
              "      <td>65</td>\n",
              "      <td>65</td>\n",
              "      <td>0.74 (0.08)</td>\n",
              "      <td>0.70 (0.08)</td>\n",
              "      <td>0.77 (0.09)</td>\n",
              "      <td>0.66 (0.14)</td>\n",
              "      <td>0.65 (0.16)</td>\n",
              "      <td>0.73 (0.18)</td>\n",
              "      <td>0.91 (0.13)</td>\n",
              "      <td>0.87 (0.08)</td>\n",
              "      <td>0.87 (0.06)</td>\n",
              "    </tr>\n",
              "    <tr>\n",
              "      <th>SVCL0</th>\n",
              "      <td>65</td>\n",
              "      <td>65</td>\n",
              "      <td>65</td>\n",
              "      <td>0.75 (0.08)</td>\n",
              "      <td>0.71 (0.08)</td>\n",
              "      <td>0.76 (0.07)</td>\n",
              "      <td>0.56 (0.15)</td>\n",
              "      <td>0.50 (0.16)</td>\n",
              "      <td>0.58 (0.14)</td>\n",
              "      <td>0.96 (0.04)</td>\n",
              "      <td>0.91 (0.06)</td>\n",
              "      <td>0.95 (0.06)</td>\n",
              "    </tr>\n",
              "    <tr>\n",
              "      <th>SVCR0</th>\n",
              "      <td>65</td>\n",
              "      <td>65</td>\n",
              "      <td>30</td>\n",
              "      <td>0.77 (0.08)</td>\n",
              "      <td>0.78 (0.08)</td>\n",
              "      <td>0.80 (0.07)</td>\n",
              "      <td>0.55 (0.17)</td>\n",
              "      <td>0.58 (0.16)</td>\n",
              "      <td>0.65 (0.14)</td>\n",
              "      <td>1.00 (0.04)</td>\n",
              "      <td>0.99 (0.05)</td>\n",
              "      <td>0.99 (0.05)</td>\n",
              "    </tr>\n",
              "    <tr>\n",
              "      <th rowspan=\"7\" valign=\"top\">Inj</th>\n",
              "      <th>CART0</th>\n",
              "      <td>65</td>\n",
              "      <td>55</td>\n",
              "      <td>45</td>\n",
              "      <td>0.74 (0.09)</td>\n",
              "      <td>0.81 (0.10)</td>\n",
              "      <td>0.80 (0.10)</td>\n",
              "      <td>0.52 (0.16)</td>\n",
              "      <td>0.68 (0.23)</td>\n",
              "      <td>0.64 (0.20)</td>\n",
              "      <td>0.97 (0.03)</td>\n",
              "      <td>0.95 (0.06)</td>\n",
              "      <td>0.98 (0.04)</td>\n",
              "    </tr>\n",
              "    <tr>\n",
              "      <th>ENSMB</th>\n",
              "      <td>65</td>\n",
              "      <td>65</td>\n",
              "      <td>65</td>\n",
              "      <td>0.71 (0.08)</td>\n",
              "      <td>0.73 (0.10)</td>\n",
              "      <td>0.76 (0.09)</td>\n",
              "      <td>0.43 (0.17)</td>\n",
              "      <td>0.49 (0.24)</td>\n",
              "      <td>0.54 (0.18)</td>\n",
              "      <td>0.99 (0.02)</td>\n",
              "      <td>0.98 (0.06)</td>\n",
              "      <td>0.99 (0.03)</td>\n",
              "    </tr>\n",
              "    <tr>\n",
              "      <th>KNN1</th>\n",
              "      <td>25</td>\n",
              "      <td>40</td>\n",
              "      <td>50</td>\n",
              "      <td>0.69 (0.10)</td>\n",
              "      <td>0.73 (0.10)</td>\n",
              "      <td>0.74 (0.09)</td>\n",
              "      <td>0.50 (0.19)</td>\n",
              "      <td>0.54 (0.24)</td>\n",
              "      <td>0.56 (0.18)</td>\n",
              "      <td>0.96 (0.12)</td>\n",
              "      <td>0.95 (0.07)</td>\n",
              "      <td>0.95 (0.09)</td>\n",
              "    </tr>\n",
              "    <tr>\n",
              "      <th>LDA</th>\n",
              "      <td>65</td>\n",
              "      <td>65</td>\n",
              "      <td>65</td>\n",
              "      <td>0.69 (0.09)</td>\n",
              "      <td>0.72 (0.09)</td>\n",
              "      <td>0.74 (0.08)</td>\n",
              "      <td>0.42 (0.18)</td>\n",
              "      <td>0.49 (0.18)</td>\n",
              "      <td>0.53 (0.17)</td>\n",
              "      <td>0.97 (0.04)</td>\n",
              "      <td>0.95 (0.05)</td>\n",
              "      <td>0.97 (0.04)</td>\n",
              "    </tr>\n",
              "    <tr>\n",
              "      <th>NB</th>\n",
              "      <td>10</td>\n",
              "      <td>40</td>\n",
              "      <td>35</td>\n",
              "      <td>0.68 (0.10)</td>\n",
              "      <td>0.72 (0.09)</td>\n",
              "      <td>0.74 (0.08)</td>\n",
              "      <td>0.69 (0.20)</td>\n",
              "      <td>0.72 (0.19)</td>\n",
              "      <td>0.71 (0.17)</td>\n",
              "      <td>0.92 (0.19)</td>\n",
              "      <td>0.87 (0.17)</td>\n",
              "      <td>0.86 (0.20)</td>\n",
              "    </tr>\n",
              "    <tr>\n",
              "      <th>SVCL0</th>\n",
              "      <td>60</td>\n",
              "      <td>65</td>\n",
              "      <td>65</td>\n",
              "      <td>0.67 (0.08)</td>\n",
              "      <td>0.69 (0.09)</td>\n",
              "      <td>0.73 (0.08)</td>\n",
              "      <td>0.36 (0.16)</td>\n",
              "      <td>0.42 (0.23)</td>\n",
              "      <td>0.49 (0.15)</td>\n",
              "      <td>0.98 (0.02)</td>\n",
              "      <td>0.96 (0.06)</td>\n",
              "      <td>0.98 (0.03)</td>\n",
              "    </tr>\n",
              "    <tr>\n",
              "      <th>SVCR0</th>\n",
              "      <td>65</td>\n",
              "      <td>65</td>\n",
              "      <td>65</td>\n",
              "      <td>0.76 (0.09)</td>\n",
              "      <td>0.75 (0.09)</td>\n",
              "      <td>0.76 (0.09)</td>\n",
              "      <td>0.52 (0.18)</td>\n",
              "      <td>0.51 (0.23)</td>\n",
              "      <td>0.52 (0.18)</td>\n",
              "      <td>1.00 (0.02)</td>\n",
              "      <td>0.99 (0.06)</td>\n",
              "      <td>1.00 (0.02)</td>\n",
              "    </tr>\n",
              "    <tr>\n",
              "      <th rowspan=\"7\" valign=\"top\">Pro</th>\n",
              "      <th>CART0</th>\n",
              "      <td>65</td>\n",
              "      <td>65</td>\n",
              "      <td>65</td>\n",
              "      <td>0.73 (0.08)</td>\n",
              "      <td>0.78 (0.13)</td>\n",
              "      <td>0.80 (0.11)</td>\n",
              "      <td>0.51 (0.17)</td>\n",
              "      <td>0.62 (0.28)</td>\n",
              "      <td>0.65 (0.23)</td>\n",
              "      <td>0.97 (0.03)</td>\n",
              "      <td>0.98 (0.04)</td>\n",
              "      <td>0.97 (0.04)</td>\n",
              "    </tr>\n",
              "    <tr>\n",
              "      <th>ENSMB</th>\n",
              "      <td>65</td>\n",
              "      <td>65</td>\n",
              "      <td>65</td>\n",
              "      <td>0.71 (0.08)</td>\n",
              "      <td>0.68 (0.09)</td>\n",
              "      <td>0.71 (0.08)</td>\n",
              "      <td>0.44 (0.16)</td>\n",
              "      <td>0.38 (0.17)</td>\n",
              "      <td>0.44 (0.16)</td>\n",
              "      <td>0.99 (0.02)</td>\n",
              "      <td>0.98 (0.05)</td>\n",
              "      <td>0.99 (0.04)</td>\n",
              "    </tr>\n",
              "    <tr>\n",
              "      <th>KNN1</th>\n",
              "      <td>65</td>\n",
              "      <td>50</td>\n",
              "      <td>50</td>\n",
              "      <td>0.69 (0.10)</td>\n",
              "      <td>0.70 (0.12)</td>\n",
              "      <td>0.72 (0.10)</td>\n",
              "      <td>0.51 (0.20)</td>\n",
              "      <td>0.50 (0.25)</td>\n",
              "      <td>0.51 (0.22)</td>\n",
              "      <td>0.96 (0.16)</td>\n",
              "      <td>0.92 (0.19)</td>\n",
              "      <td>0.94 (0.07)</td>\n",
              "    </tr>\n",
              "    <tr>\n",
              "      <th>LDA</th>\n",
              "      <td>55</td>\n",
              "      <td>50</td>\n",
              "      <td>60</td>\n",
              "      <td>0.69 (0.08)</td>\n",
              "      <td>0.64 (0.09)</td>\n",
              "      <td>0.67 (0.08)</td>\n",
              "      <td>0.43 (0.15)</td>\n",
              "      <td>0.36 (0.19)</td>\n",
              "      <td>0.39 (0.17)</td>\n",
              "      <td>0.97 (0.04)</td>\n",
              "      <td>0.94 (0.05)</td>\n",
              "      <td>0.96 (0.05)</td>\n",
              "    </tr>\n",
              "    <tr>\n",
              "      <th>NB</th>\n",
              "      <td>20</td>\n",
              "      <td>45</td>\n",
              "      <td>65</td>\n",
              "      <td>0.65 (0.08)</td>\n",
              "      <td>0.69 (0.09)</td>\n",
              "      <td>0.72 (0.08)</td>\n",
              "      <td>0.89 (0.24)</td>\n",
              "      <td>0.71 (0.19)</td>\n",
              "      <td>0.67 (0.16)</td>\n",
              "      <td>0.90 (0.32)</td>\n",
              "      <td>0.84 (0.14)</td>\n",
              "      <td>0.86 (0.12)</td>\n",
              "    </tr>\n",
              "    <tr>\n",
              "      <th>SVCL0</th>\n",
              "      <td>65</td>\n",
              "      <td>65</td>\n",
              "      <td>65</td>\n",
              "      <td>0.68 (0.08)</td>\n",
              "      <td>0.62 (0.09)</td>\n",
              "      <td>0.66 (0.08)</td>\n",
              "      <td>0.39 (0.15)</td>\n",
              "      <td>0.28 (0.18)</td>\n",
              "      <td>0.35 (0.19)</td>\n",
              "      <td>0.98 (0.03)</td>\n",
              "      <td>0.99 (0.04)</td>\n",
              "      <td>0.98 (0.04)</td>\n",
              "    </tr>\n",
              "    <tr>\n",
              "      <th>SVCR0</th>\n",
              "      <td>65</td>\n",
              "      <td>65</td>\n",
              "      <td>65</td>\n",
              "      <td>0.74 (0.09)</td>\n",
              "      <td>0.73 (0.10)</td>\n",
              "      <td>0.77 (0.07)</td>\n",
              "      <td>0.48 (0.17)</td>\n",
              "      <td>0.49 (0.19)</td>\n",
              "      <td>0.55 (0.15)</td>\n",
              "      <td>1.00 (0.02)</td>\n",
              "      <td>0.98 (0.04)</td>\n",
              "      <td>0.99 (0.04)</td>\n",
              "    </tr>\n",
              "  </tbody>\n",
              "</table>\n",
              "</div>"
            ],
            "text/plain": [
              "          n_desc          ...         spec                          \n",
              "             bio chm  bc  ...          bio          chm           bc\n",
              "tox cl                    ...                                       \n",
              "Hyp CART0     65  65  60  ...  0.96 (0.03)  0.93 (0.05)  0.96 (0.04)\n",
              "    ENSMB     65  60  65  ...  0.98 (0.03)  0.96 (0.05)  0.98 (0.04)\n",
              "    KNN1      15  55  35  ...  0.92 (0.14)  0.91 (0.16)  0.92 (0.13)\n",
              "    LDA       60  60  60  ...  0.96 (0.04)  0.91 (0.06)  0.96 (0.05)\n",
              "    NB        60  65  65  ...  0.91 (0.13)  0.87 (0.08)  0.87 (0.06)\n",
              "    SVCL0     65  65  65  ...  0.96 (0.04)  0.91 (0.06)  0.95 (0.06)\n",
              "    SVCR0     65  65  30  ...  1.00 (0.04)  0.99 (0.05)  0.99 (0.05)\n",
              "Inj CART0     65  55  45  ...  0.97 (0.03)  0.95 (0.06)  0.98 (0.04)\n",
              "    ENSMB     65  65  65  ...  0.99 (0.02)  0.98 (0.06)  0.99 (0.03)\n",
              "    KNN1      25  40  50  ...  0.96 (0.12)  0.95 (0.07)  0.95 (0.09)\n",
              "    LDA       65  65  65  ...  0.97 (0.04)  0.95 (0.05)  0.97 (0.04)\n",
              "    NB        10  40  35  ...  0.92 (0.19)  0.87 (0.17)  0.86 (0.20)\n",
              "    SVCL0     60  65  65  ...  0.98 (0.02)  0.96 (0.06)  0.98 (0.03)\n",
              "    SVCR0     65  65  65  ...  1.00 (0.02)  0.99 (0.06)  1.00 (0.02)\n",
              "Pro CART0     65  65  65  ...  0.97 (0.03)  0.98 (0.04)  0.97 (0.04)\n",
              "    ENSMB     65  65  65  ...  0.99 (0.02)  0.98 (0.05)  0.99 (0.04)\n",
              "    KNN1      65  50  50  ...  0.96 (0.16)  0.92 (0.19)  0.94 (0.07)\n",
              "    LDA       55  50  60  ...  0.97 (0.04)  0.94 (0.05)  0.96 (0.05)\n",
              "    NB        20  45  65  ...  0.90 (0.32)  0.84 (0.14)  0.86 (0.12)\n",
              "    SVCL0     65  65  65  ...  0.98 (0.03)  0.99 (0.04)  0.98 (0.04)\n",
              "    SVCR0     65  65  65  ...  1.00 (0.02)  0.98 (0.04)  0.99 (0.04)\n",
              "\n",
              "[21 rows x 12 columns]"
            ]
          },
          "metadata": {
            "tags": []
          },
          "execution_count": 58
        }
      ]
    },
    {
      "cell_type": "markdown",
      "metadata": {
        "id": "bnQkNf7v9eRY",
        "colab_type": "text"
      },
      "source": [
        "## Compare the above with the published Table 2\n"
      ]
    },
    {
      "cell_type": "code",
      "metadata": {
        "id": "aAW9BbAbJxbm",
        "colab_type": "code",
        "colab": {}
      },
      "source": [
        "from PIL import Image\n",
        "from io import BytesIO\n",
        "import requests\n",
        "# This url may be different so may need to double-check online\n",
        "x = requests.get('https://pubs.acs.org/na101/home/literatum/publisher/achs/journals/content/crtoec/2015/crtoec.2015.28.issue-4/tx500501h/20150414/images/medium/tx-2014-00501h_0009.gif')\n",
        "Table_img = Image.open(BytesIO(x.content))\n"
      ],
      "execution_count": 0,
      "outputs": []
    },
    {
      "cell_type": "code",
      "metadata": {
        "id": "i_bppwzOSDSv",
        "colab_type": "code",
        "colab": {
          "base_uri": "https://localhost:8080/",
          "height": 656
        },
        "outputId": "d0ab2e13-034b-4835-a662-23c1e1f73344"
      },
      "source": [
        "Table_img.resize((1000,640))"
      ],
      "execution_count": 63,
      "outputs": [
        {
          "output_type": "execute_result",
          "data": {
            "image/png": "[encoded data removed]",
            "text/plain": [
              "<PIL.Image.Image image mode=P size=1000x640 at 0x7F395AA81198>"
            ]
          },
          "metadata": {
            "tags": []
          },
          "execution_count": 63
        }
      ]
    },
    {
      "cell_type": "code",
      "metadata": {
        "id": "RJmrFg8tSo2M",
        "colab_type": "code",
        "colab": {}
      },
      "source": [
        ""
      ],
      "execution_count": 0,
      "outputs": []
    }
  ]
}